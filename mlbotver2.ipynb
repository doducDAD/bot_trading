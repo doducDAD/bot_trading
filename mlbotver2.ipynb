{
 "cells": [
  {
   "cell_type": "code",
   "execution_count": 8,
   "metadata": {
    "collapsed": true
   },
   "outputs": [],
   "source": [
    "import math\n",
    "import ccxt\n",
    "import joblib\n",
    "import lightgbm as lgb\n",
    "import matplotlib.pyplot as plt\n",
    "import numba\n",
    "import numpy as np\n",
    "import pandas as pd\n",
    "from scipy.stats import ttest_1samp\n",
    "import seaborn as sns\n",
    "import talib\n",
    "from datetime import datetime\n",
    "from sklearn.linear_model import RidgeCV\n",
    "from sklearn.model_selection import cross_val_score, KFold, TimeSeriesSplit\n",
    "from binance.client import Client\n",
    "from scipy.stats import linregress\n",
    "import pandas_ta as ta"
   ]
  },
  {
   "cell_type": "code",
   "execution_count": 9,
   "outputs": [
    {
     "data": {
      "text/plain": "                    time      open      high       low     close       volume\n4233 2022-12-07 19:00:00  16793.29  16897.38  16765.12  16837.48  45582.55807\n4234 2022-12-07 23:00:00  16837.48  16850.24  16778.21  16815.73  31381.52031\n4235 2022-12-08 03:00:00  16815.13  16865.81  16793.70  16836.64  21635.69423\n4236 2022-12-08 07:00:00  16836.64  16890.01  16780.01  16834.32  36098.63764\n4237 2022-12-08 11:00:00  16834.32  16851.00  16777.00  16824.49  24247.90227",
      "text/html": "<div>\n<style scoped>\n    .dataframe tbody tr th:only-of-type {\n        vertical-align: middle;\n    }\n\n    .dataframe tbody tr th {\n        vertical-align: top;\n    }\n\n    .dataframe thead th {\n        text-align: right;\n    }\n</style>\n<table border=\"1\" class=\"dataframe\">\n  <thead>\n    <tr style=\"text-align: right;\">\n      <th></th>\n      <th>time</th>\n      <th>open</th>\n      <th>high</th>\n      <th>low</th>\n      <th>close</th>\n      <th>volume</th>\n    </tr>\n  </thead>\n  <tbody>\n    <tr>\n      <th>4233</th>\n      <td>2022-12-07 19:00:00</td>\n      <td>16793.29</td>\n      <td>16897.38</td>\n      <td>16765.12</td>\n      <td>16837.48</td>\n      <td>45582.55807</td>\n    </tr>\n    <tr>\n      <th>4234</th>\n      <td>2022-12-07 23:00:00</td>\n      <td>16837.48</td>\n      <td>16850.24</td>\n      <td>16778.21</td>\n      <td>16815.73</td>\n      <td>31381.52031</td>\n    </tr>\n    <tr>\n      <th>4235</th>\n      <td>2022-12-08 03:00:00</td>\n      <td>16815.13</td>\n      <td>16865.81</td>\n      <td>16793.70</td>\n      <td>16836.64</td>\n      <td>21635.69423</td>\n    </tr>\n    <tr>\n      <th>4236</th>\n      <td>2022-12-08 07:00:00</td>\n      <td>16836.64</td>\n      <td>16890.01</td>\n      <td>16780.01</td>\n      <td>16834.32</td>\n      <td>36098.63764</td>\n    </tr>\n    <tr>\n      <th>4237</th>\n      <td>2022-12-08 11:00:00</td>\n      <td>16834.32</td>\n      <td>16851.00</td>\n      <td>16777.00</td>\n      <td>16824.49</td>\n      <td>24247.90227</td>\n    </tr>\n  </tbody>\n</table>\n</div>"
     },
     "execution_count": 9,
     "metadata": {},
     "output_type": "execute_result"
    }
   ],
   "source": [
    "client = Client('JLCON0ZJ9v4zX595o2W1rlvSIhIercTu2ugNLCMPZ88QAt8zvSe2vY3LDiiRjKMB','JMnozKSUlep8mBrXCW1b7mAdHDl5qcYv3GDfNOquyifCdbD4QmGXILR9A5V0FgKf')\n",
    "start_str = 'Jan 1, 2021'\n",
    "end_str = ''\n",
    "coin = 'BTC'\n",
    "klines = client.get_historical_klines(symbol=f'{coin}USDT', interval=client.KLINE_INTERVAL_4HOUR, start_str=start_str)  ##craw dữ liệu\n",
    "df = pd.DataFrame(klines)\n",
    "df = df.iloc[:,:6] ## Chỉ lấy 6 cột đầu.\n",
    "df.columns = ['time','open','high','low','close','volume']\n",
    "df = df.astype(float) ## Dữ liệu đang ở dạng string nên cần chuyển qua float.\n",
    "df['time'] = [datetime.fromtimestamp(ts / 1000) for ts in df['time']] ##chuyển định dạng timestamp sang thời gian chuẩn YY/MM/DD 00:00 UTC\n",
    "\n",
    "df.tail()"
   ],
   "metadata": {
    "collapsed": false
   }
  },
  {
   "cell_type": "code",
   "execution_count": 20,
   "outputs": [
    {
     "name": "stdout",
     "output_type": "stream",
     "text": [
      "774.364999999998\n"
     ]
    }
   ],
   "source": [
    "open = df['open']\n",
    "high = df['high']\n",
    "low  = df['low']\n",
    "close = df['close']\n",
    "volume = df['volume']\n",
    "df.dropna()\n",
    "avg = (df['high'] + df['low']) / 2\n",
    "diff = (df['high'] - df['low'])\n",
    "##Overlap Studies\n",
    "df['BBANDS_upperband'], df['BBANDS_middleband'], df['BBANDS_lowerband'] = talib.BBANDS(close, timeperiod=5, nbdevup=2, nbdevdn=2, matype=0)\n",
    "df['BBANDS_upperband'] = (df['BBANDS_upperband'] - avg) / close\n",
    "df['BBANDS_middleband'] = (df['BBANDS_middleband'] - avg) / close\n",
    "df['BBANDS_lowerband'] = (df['BBANDS_lowerband'] - avg) / close\n",
    "df['DEMA'] = (talib.DEMA(close, timeperiod=30) - avg) / close\n",
    "df['EMA'] = (talib.EMA(close, timeperiod=30) - avg) / close\n",
    "df['HT_TRENDLINE'] = (talib.HT_TRENDLINE(close) - avg) / close\n",
    "df['KAMA'] = (talib.KAMA(close, timeperiod=30) - avg) / close\n",
    "df['MA'] = (talib.MA(close, timeperiod=30, matype=0) - avg) / close\n",
    "df['MIDPOINT'] = (talib.MIDPOINT(close, timeperiod=14) - avg) / close\n",
    "df['SMA'] = (talib.SMA(close, timeperiod=30) - avg) / close\n",
    "df['T3'] = (talib.T3(close, timeperiod=5, vfactor=0) - avg) / close\n",
    "df['TEMA'] = (talib.TEMA(close, timeperiod=30) - avg) / close\n",
    "df['TRIMA'] = (talib.TRIMA(close, timeperiod=30) - avg) / close\n",
    "df['WMA'] = (talib.WMA(close, timeperiod=30) - avg) / close\n",
    "df['LINEARREG'] = (talib.LINEARREG(close, timeperiod=14) - close) / close\n",
    "df['LINEARREG_INTERCEPT'] = (talib.LINEARREG_INTERCEPT(close, timeperiod=14) - close) / close\n",
    "\n",
    "df['AD'] = talib.AD(high, low, close, volume) / close\n",
    "df['ADOSC'] = talib.ADOSC(high, low, close, volume, fastperiod=3, slowperiod=10) / close\n",
    "df['APO'] = talib.APO(close, fastperiod=12, slowperiod=26, matype=0) / close\n",
    "df['HT_PHASOR_inphase'], df['HT_PHASOR_quadrature'] = talib.HT_PHASOR(close)\n",
    "df['HT_PHASOR_inphase'] /= close\n",
    "df['HT_PHASOR_quadrature'] /= close\n",
    "df['LINEARREG_SLOPE'] = talib.LINEARREG_SLOPE(close, timeperiod=14) / close\n",
    "df['MACD_macd'], df['MACD_macdsignal'], df['MACD_macdhist'] = talib.MACD(close, fastperiod=12, slowperiod=26, signalperiod=9)\n",
    "df['MACD_macd'] /= close\n",
    "df['MACD_macdsignal'] /= close\n",
    "df['MACD_macdhist'] /= close\n",
    "df['MINUS_DM'] = talib.MINUS_DM(high, low, timeperiod=14) / close\n",
    "df['MOM'] = talib.MOM(close, timeperiod=10) / close\n",
    "df['OBV'] = talib.OBV(close, volume) / close\n",
    "df['PLUS_DM'] = talib.PLUS_DM(high, low, timeperiod=14) / close\n",
    "df['STDDEV'] = talib.STDDEV(close, timeperiod=5, nbdev=1) / close\n",
    "df['TRANGE'] = talib.TRANGE(high, low, close) / close\n",
    "\n",
    "##Momentum Indicators\n",
    "df['ADX'] = talib.ADX(high, low, close, timeperiod=14)\n",
    "df['ADXR'] = talib.ADXR(high, low, close, timeperiod=14)\n",
    "df['AROON_aroondown'], df['AROON_aroonup'] = talib.AROON(high, low, timeperiod=14)\n",
    "df['AROONOSC'] = talib.AROONOSC(high, low, timeperiod=14)\n",
    "df['BOP'] = talib.BOP(open, high, low, close)\n",
    "df['CCI'] = talib.CCI(high, low, close, timeperiod=14)\n",
    "df['DX'] = talib.DX(high, low, close, timeperiod=14)\n",
    "\n",
    "df['MFI'] = talib.MFI(high, low, close, volume, timeperiod=14)\n",
    "df['MINUS_DI'] = talib.MINUS_DI(high, low, close, timeperiod=14)\n",
    "df['PLUS_DI'] = talib.PLUS_DI(high, low, close, timeperiod=14)\n",
    "df['RSI'] = talib.RSI(close, timeperiod=14)\n",
    "df['STOCH_slowk'], df['STOCH_slowd'] = talib.STOCH(high, low, close, fastk_period=5, slowk_period=3, slowk_matype=0, slowd_period=3, slowd_matype=0)\n",
    "df['STOCHF_fastk'], df['STOCHF_fastd'] = talib.STOCHF(high, low, close, fastk_period=5, fastd_period=3, fastd_matype=0)\n",
    "df['STOCHRSI_fastk'], df['STOCHRSI_fastd'] = talib.STOCHRSI(close, timeperiod=14, fastk_period=5, fastd_period=3, fastd_matype=0)\n",
    "df['TRIX'] = talib.TRIX(close, timeperiod=30)\n",
    "df['ULTOSC'] = talib.ULTOSC(high, low, close, timeperiod1=7, timeperiod2=14, timeperiod3=28)\n",
    "df['WILLR'] = talib.WILLR(high, low, close, timeperiod=14)\n",
    "\n",
    "df['ATR'] = talib.ATR(high, low, close, timeperiod=14)  # Chỉ báo về biên động thị trường\n",
    "df['NATR'] = talib.NATR(high, low, close, timeperiod=14)\n",
    "\n",
    "df['HT_DCPERIOD'] = talib.HT_DCPERIOD(close)\n",
    "df['HT_DCPHASE'] = talib.HT_DCPHASE(close)\n",
    "df['HT_SINE_sine'], df['HT_SINE_leadsine'] = talib.HT_SINE(close)\n",
    "df['HT_TRENDMODE'] = talib.HT_TRENDMODE(close)\n",
    "\n",
    "df['BETA'] = talib.BETA(high, low, timeperiod=5)\n",
    "df['CORREL'] = talib.CORREL(high, low, timeperiod=30)\n",
    "\n",
    "df['LINEARREG_ANGLE'] = talib.LINEARREG_ANGLE(close, timeperiod=14)\n",
    "diff =pd.DataFrame.median(diff)\n",
    "print(diff)\n",
    "## Pattern Recognition"
   ],
   "metadata": {
    "collapsed": false
   }
  },
  {
   "cell_type": "code",
   "execution_count": 22,
   "outputs": [],
   "source": [
    "#Phân nhóm dữ liệu\n",
    "pipdiff = diff  # for TP\n",
    "SLTPRatio = 2   # pipdiff/Ratio gives SL\n",
    "\n",
    "\n",
    "def mytarget(barsupfront, df1):\n",
    "    length = len(df1)\n",
    "    high = list(df1['high'])\n",
    "    low = list(df1['low'])\n",
    "    close = list(df1['close'])\n",
    "    open = list(df1['open'])\n",
    "    trendcat = [None] * length\n",
    "\n",
    "    for line in range(0, length - barsupfront - 2):\n",
    "        valueOpenLow = 0\n",
    "        valueOpenHigh = 0\n",
    "        for i in range(1, barsupfront + 2):\n",
    "            value1 = open[line + 1] - low[line + i]\n",
    "            value2 = open[line + 1] - high[line + i]\n",
    "            valueOpenLow = max(value1, valueOpenLow)\n",
    "            valueOpenHigh = min(value2, valueOpenHigh)\n",
    "\n",
    "            if ((valueOpenLow >= pipdiff) and (-valueOpenHigh <= (pipdiff / SLTPRatio))):\n",
    "                trendcat[line] = 1  # -1 downtrend\n",
    "                break\n",
    "            elif ((valueOpenLow <= (pipdiff / SLTPRatio)) and (-valueOpenHigh >= pipdiff)):\n",
    "                trendcat[line] = 2  # uptrend\n",
    "                break\n",
    "            else:\n",
    "                trendcat[line] = 0  # no clear trend\n",
    "\n",
    "    return trendcat\n",
    "df['mytarget'] = mytarget(16, df)\n",
    "\n",
    "\n"
   ],
   "metadata": {
    "collapsed": false
   }
  },
  {
   "cell_type": "code",
   "execution_count": 23,
   "outputs": [],
   "source": [
    "df.to_csv('target.csv',index =False)"
   ],
   "metadata": {
    "collapsed": false
   }
  },
  {
   "cell_type": "code",
   "execution_count": 24,
   "outputs": [
    {
     "name": "stdout",
     "output_type": "stream",
     "text": [
      "            ADX       ADXR       APO    AROONOSC  AROON_aroondown  \\\n",
      "88    19.925492  26.087262  0.053645   42.857143         7.142857   \n",
      "89    20.418595  25.913244  0.044588   42.857143         0.000000   \n",
      "90    20.227021  24.827783  0.039170   35.714286         0.000000   \n",
      "91    20.236355  23.808834  0.034196  -50.000000        78.571429   \n",
      "92    19.448762  22.548488  0.028925  -50.000000        71.428571   \n",
      "...         ...        ...       ...         ...              ...   \n",
      "4215  27.590720  30.884324 -0.000667   21.428571        14.285714   \n",
      "4216  27.491103  30.619005 -0.000648   21.428571         7.142857   \n",
      "4217  27.665437  30.506055 -0.001124  100.000000         0.000000   \n",
      "4218  28.601400  31.026980 -0.000565   50.000000        50.000000   \n",
      "4219  29.798561  31.864067  0.000787   57.142857        42.857143   \n",
      "\n",
      "      AROON_aroonup  BBANDS_lowerband  BBANDS_middleband  BBANDS_upperband  \\\n",
      "88        50.000000         -0.033665           0.051146          0.135958   \n",
      "89        42.857143         -0.043850           0.026832          0.097513   \n",
      "90        35.714286         -0.063836          -0.008720          0.046396   \n",
      "91        28.571429         -0.036000          -0.002849          0.030302   \n",
      "92        21.428571         -0.058015          -0.016282          0.025452   \n",
      "...             ...               ...                ...               ...   \n",
      "4215      35.714286         -0.007320          -0.001602          0.004117   \n",
      "4216      28.571429         -0.009440          -0.003609          0.002222   \n",
      "4217     100.000000         -0.012722          -0.006004          0.000715   \n",
      "4218     100.000000         -0.017722          -0.008146          0.001429   \n",
      "4219     100.000000         -0.020834          -0.009334          0.002165   \n",
      "\n",
      "          BETA  ...    STDDEV  STOCHF_fastk  STOCH_slowd  STOCH_slowk  \\\n",
      "88    0.635598  ...  0.042406     15.155363    23.539048    15.117422   \n",
      "89    0.723725  ...  0.035341     52.512323    20.759295    25.069704   \n",
      "90    0.963111  ...  0.027558     48.602928    26.314665    38.756871   \n",
      "91    0.886789  ...  0.016575     57.232887    38.869762    52.782712   \n",
      "92    0.722423  ...  0.020867     92.377188    52.536861    66.071001   \n",
      "...        ...  ...       ...           ...          ...          ...   \n",
      "4215  0.809879  ...  0.002859     81.783427    53.973960    63.507917   \n",
      "4216  0.537535  ...  0.002916     73.830810    61.194086    66.191716   \n",
      "4217  0.956702  ...  0.003359     67.384078    68.010802    74.332772   \n",
      "4218  0.310304  ...  0.004788     65.591712    69.820007    68.935533   \n",
      "4219 -0.223606  ...  0.005750     78.336770    71.235275    70.437520   \n",
      "\n",
      "            T3      TEMA     TRIMA     ULTOSC      WILLR       WMA  \n",
      "88    0.070823  0.060224  0.010556  44.280372 -80.268617  0.036630  \n",
      "89    0.051384  0.043458  0.003515  49.124544 -58.790119  0.024860  \n",
      "90    0.021177  0.015115 -0.015947  46.934968 -62.668306  0.000925  \n",
      "91    0.030296  0.026436  0.004068  50.600896 -61.931483  0.016187  \n",
      "92    0.001652  0.003965 -0.015117  53.169724 -42.515812 -0.006035  \n",
      "...        ...       ...       ...        ...        ...       ...  \n",
      "4215 -0.001485  0.004144 -0.000546  47.248464 -39.662952 -0.000813  \n",
      "4216 -0.005492  0.000664 -0.004643  48.559036 -25.789644 -0.004636  \n",
      "4217 -0.008955 -0.002490 -0.008587  46.791228 -28.230166 -0.008212  \n",
      "4218 -0.012397 -0.005231 -0.012965  46.742415 -31.167430 -0.011894  \n",
      "4219 -0.016244 -0.007951 -0.018200  46.604867 -19.508055 -0.016108  \n",
      "\n",
      "[4132 rows x 43 columns]\n"
     ]
    }
   ],
   "source": [
    "features = sorted([\n",
    "    'ADX',\n",
    "    'ADXR',\n",
    "    'APO',\n",
    "    'AROON_aroondown',\n",
    "    'AROON_aroonup',\n",
    "    'AROONOSC',\n",
    "    'CCI',\n",
    "    'DX',\n",
    "    'MACD_macd',\n",
    "    'MACD_macdsignal',\n",
    "    'MACD_macdhist',\n",
    "    'MFI',\n",
    "    'MOM',\n",
    "    'RSI',\n",
    "    'STOCH_slowk',\n",
    "    'STOCH_slowd',\n",
    "    'STOCHF_fastk',\n",
    "\n",
    "    'ULTOSC',\n",
    "    'WILLR',\n",
    "\n",
    "    'HT_DCPERIOD',\n",
    "    'HT_DCPHASE',\n",
    "    'HT_PHASOR_inphase',\n",
    "    'HT_PHASOR_quadrature',\n",
    "    'HT_TRENDMODE',\n",
    "    'BETA',\n",
    "    'LINEARREG',\n",
    "    'LINEARREG_ANGLE',\n",
    "    'LINEARREG_INTERCEPT',\n",
    "    'LINEARREG_SLOPE',\n",
    "    'STDDEV',\n",
    "    'BBANDS_upperband',\n",
    "    'BBANDS_middleband',\n",
    "    'BBANDS_lowerband',\n",
    "    'DEMA',\n",
    "    'EMA',\n",
    "    'HT_TRENDLINE',\n",
    "    'KAMA',\n",
    "    'MA',\n",
    "    'MIDPOINT',\n",
    "    'T3',\n",
    "    'TEMA',\n",
    "    'TRIMA',\n",
    "    'WMA',\n",
    "])\n",
    "df = df.dropna()\n",
    "X = df[features]\n",
    "y = df[\"mytarget\"]\n"
   ],
   "metadata": {
    "collapsed": false
   }
  },
  {
   "cell_type": "code",
   "execution_count": 25,
   "outputs": [],
   "source": [
    "from sklearn.model_selection import train_test_split\n",
    "X_train, X_test, y_train, y_test = train_test_split(X, y, test_size=0.2, random_state=1)\n"
   ],
   "metadata": {
    "collapsed": false
   }
  },
  {
   "cell_type": "code",
   "execution_count": 32,
   "outputs": [
    {
     "name": "stdout",
     "output_type": "stream",
     "text": [
      "****Train Results****\n",
      "Accuracy: 100.0000%\n",
      "****Test Results****\n",
      "Accuracy: 49.0931%\n"
     ]
    }
   ],
   "source": [
    "from xgboost import XGBClassifier\n",
    "from sklearn.metrics import accuracy_score\n",
    "model = XGBClassifier()\n",
    "model.fit(X_train, y_train)\n",
    "pred_train = model.predict(X_train)\n",
    "pred_test = model.predict(X_test)\n",
    "acc_train = accuracy_score(y_train, pred_train)\n",
    "acc_test = accuracy_score(y_test, pred_test)\n",
    "print('****Train Results****')\n",
    "print(\"Accuracy: {:.4%}\".format(acc_train))\n",
    "print('****Test Results****')\n",
    "print(\"Accuracy: {:.4%}\".format(acc_test))\n"
   ],
   "metadata": {
    "collapsed": false
   }
  },
  {
   "cell_type": "code",
   "execution_count": 31,
   "outputs": [
    {
     "name": "stdout",
     "output_type": "stream",
     "text": [
      "Collecting xgboostNote: you may need to restart the kernel to use updated packages.\n",
      "\n",
      "  Using cached xgboost-1.7.1-py3-none-win_amd64.whl (89.1 MB)\n",
      "Requirement already satisfied: numpy in c:\\python310\\lib\\site-packages (from xgboost) (1.23.3)\n",
      "Requirement already satisfied: scipy in c:\\python310\\lib\\site-packages (from xgboost) (1.9.3)\n",
      "Installing collected packages: xgboost\n",
      "Successfully installed xgboost-1.7.1\n"
     ]
    },
    {
     "name": "stderr",
     "output_type": "stream",
     "text": [
      "WARNING: Ignoring invalid distribution -ip (c:\\python310\\lib\\site-packages)\n",
      "WARNING: Ignoring invalid distribution -ip (c:\\python310\\lib\\site-packages)\n",
      "WARNING: Ignoring invalid distribution -ip (c:\\python310\\lib\\site-packages)\n",
      "WARNING: Ignoring invalid distribution -ip (c:\\python310\\lib\\site-packages)\n",
      "WARNING: Ignoring invalid distribution -ip (c:\\python310\\lib\\site-packages)\n",
      "WARNING: Ignoring invalid distribution -ip (c:\\python310\\lib\\site-packages)\n",
      "WARNING: Ignoring invalid distribution -ip (c:\\python310\\lib\\site-packages)\n",
      "WARNING: You are using pip version 21.3.1; however, version 22.3.1 is available.\n",
      "You should consider upgrading via the 'C:\\Python310\\Scripts\\python.exe -m pip install --upgrade pip' command.\n"
     ]
    }
   ],
   "source": [],
   "metadata": {
    "collapsed": false
   }
  },
  {
   "cell_type": "code",
   "execution_count": null,
   "outputs": [],
   "source": [],
   "metadata": {
    "collapsed": false
   }
  }
 ],
 "metadata": {
  "kernelspec": {
   "display_name": "Python 3",
   "language": "python",
   "name": "python3"
  },
  "language_info": {
   "codemirror_mode": {
    "name": "ipython",
    "version": 2
   },
   "file_extension": ".py",
   "mimetype": "text/x-python",
   "name": "python",
   "nbconvert_exporter": "python",
   "pygments_lexer": "ipython2",
   "version": "2.7.6"
  }
 },
 "nbformat": 4,
 "nbformat_minor": 0
}
