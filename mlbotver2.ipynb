{
 "cells": [
  {
   "cell_type": "code",
   "execution_count": 230,
   "metadata": {
    "collapsed": true
   },
   "outputs": [],
   "source": [
    "import numpy as np\n",
    "import pandas as pd\n",
    "\n",
    "import talib\n",
    "from datetime import datetime\n",
    "\n",
    "from binance.client import Client\n"
   ]
  },
  {
   "cell_type": "code",
   "execution_count": 231,
   "outputs": [
    {
     "data": {
      "text/plain": "                   time      open      high       low     close        volume\n337 2022-12-04 07:00:00  16885.20  17202.84  16878.25  17105.70  178619.13387\n338 2022-12-05 07:00:00  17106.65  17424.25  16867.00  16966.35  233703.29225\n339 2022-12-06 07:00:00  16966.35  17107.01  16906.37  17088.96  218730.76883\n340 2022-12-07 07:00:00  17088.96  17142.21  16678.83  16836.64  220657.41334\n341 2022-12-08 07:00:00  16836.64  16890.01  16777.00  16821.72   82197.33155",
      "text/html": "<div>\n<style scoped>\n    .dataframe tbody tr th:only-of-type {\n        vertical-align: middle;\n    }\n\n    .dataframe tbody tr th {\n        vertical-align: top;\n    }\n\n    .dataframe thead th {\n        text-align: right;\n    }\n</style>\n<table border=\"1\" class=\"dataframe\">\n  <thead>\n    <tr style=\"text-align: right;\">\n      <th></th>\n      <th>time</th>\n      <th>open</th>\n      <th>high</th>\n      <th>low</th>\n      <th>close</th>\n      <th>volume</th>\n    </tr>\n  </thead>\n  <tbody>\n    <tr>\n      <th>337</th>\n      <td>2022-12-04 07:00:00</td>\n      <td>16885.20</td>\n      <td>17202.84</td>\n      <td>16878.25</td>\n      <td>17105.70</td>\n      <td>178619.13387</td>\n    </tr>\n    <tr>\n      <th>338</th>\n      <td>2022-12-05 07:00:00</td>\n      <td>17106.65</td>\n      <td>17424.25</td>\n      <td>16867.00</td>\n      <td>16966.35</td>\n      <td>233703.29225</td>\n    </tr>\n    <tr>\n      <th>339</th>\n      <td>2022-12-06 07:00:00</td>\n      <td>16966.35</td>\n      <td>17107.01</td>\n      <td>16906.37</td>\n      <td>17088.96</td>\n      <td>218730.76883</td>\n    </tr>\n    <tr>\n      <th>340</th>\n      <td>2022-12-07 07:00:00</td>\n      <td>17088.96</td>\n      <td>17142.21</td>\n      <td>16678.83</td>\n      <td>16836.64</td>\n      <td>220657.41334</td>\n    </tr>\n    <tr>\n      <th>341</th>\n      <td>2022-12-08 07:00:00</td>\n      <td>16836.64</td>\n      <td>16890.01</td>\n      <td>16777.00</td>\n      <td>16821.72</td>\n      <td>82197.33155</td>\n    </tr>\n  </tbody>\n</table>\n</div>"
     },
     "execution_count": 231,
     "metadata": {},
     "output_type": "execute_result"
    }
   ],
   "source": [
    "client = Client('JLCON0ZJ9v4zX595o2W1rlvSIhIercTu2ugNLCMPZ88QAt8zvSe2vY3LDiiRjKMB','JMnozKSUlep8mBrXCW1b7mAdHDl5qcYv3GDfNOquyifCdbD4QmGXILR9A5V0FgKf')\n",
    "start_str = 'Jan 1, 2022'\n",
    "end_str = ''\n",
    "coin = 'BTC'\n",
    "klines = client.get_historical_klines(symbol=f'{coin}USDT', interval=client.KLINE_INTERVAL_1DAY, start_str=start_str)  ##craw dữ liệu\n",
    "df = pd.DataFrame(klines)\n",
    "df = df.iloc[:,:6] ## Chỉ lấy 6 cột đầu.\n",
    "df.columns = ['time','open','high','low','close','volume']\n",
    "df = df.astype(float) ## Dữ liệu đang ở dạng string nên cần chuyển qua float.\n",
    "df['time'] = [datetime.fromtimestamp(ts / 1000) for ts in df['time']] ##chuyển định dạng timestamp sang thời gian chuẩn YY/MM/DD 00:00 UTC\n",
    "df1 = df\n",
    "df2 = df\n",
    "df.tail()"
   ],
   "metadata": {
    "collapsed": false
   }
  },
  {
   "cell_type": "code",
   "execution_count": 232,
   "outputs": [
    {
     "name": "stdout",
     "output_type": "stream",
     "text": [
      "1211.4150000000009\n"
     ]
    }
   ],
   "source": [
    "open = df1['open']\n",
    "high = df['high']\n",
    "low  = df['low']\n",
    "close = df['close']\n",
    "volume = df['volume']\n",
    "df.dropna()\n",
    "avg = (df['high'] + df['low']) / 2\n",
    "diff = (df['high'] - df['low'])\n",
    "##Overlap Studies\n",
    "df['BBANDS_upperband'], df['BBANDS_middleband'], df['BBANDS_lowerband'] = talib.BBANDS(close, timeperiod=5, nbdevup=2, nbdevdn=2, matype=0)\n",
    "df['BBANDS_upperband'] = (df['BBANDS_upperband'] - avg) / close\n",
    "df['BBANDS_middleband'] = (df['BBANDS_middleband'] - avg) / close\n",
    "df['BBANDS_lowerband'] = (df['BBANDS_lowerband'] - avg) / close\n",
    "df['DEMA'] = (talib.DEMA(close, timeperiod=30) - avg) / close\n",
    "df['EMA'] = (talib.EMA(close, timeperiod=30) - avg) / close\n",
    "df['HT_TRENDLINE'] = (talib.HT_TRENDLINE(close) - avg) / close\n",
    "df['KAMA'] = (talib.KAMA(close, timeperiod=30) - avg) / close\n",
    "df['MA'] = (talib.MA(close, timeperiod=30, matype=0) - avg) / close\n",
    "df['MIDPOINT'] = (talib.MIDPOINT(close, timeperiod=14) - avg) / close\n",
    "df['SMA'] = (talib.SMA(close, timeperiod=30) - avg) / close\n",
    "df['T3'] = (talib.T3(close, timeperiod=5, vfactor=0) - avg) / close\n",
    "df['TEMA'] = (talib.TEMA(close, timeperiod=30) - avg) / close\n",
    "df['TRIMA'] = (talib.TRIMA(close, timeperiod=30) - avg) / close\n",
    "df['WMA'] = (talib.WMA(close, timeperiod=30) - avg) / close\n",
    "df['LINEARREG'] = (talib.LINEARREG(close, timeperiod=14) - close) / close\n",
    "df['LINEARREG_INTERCEPT'] = (talib.LINEARREG_INTERCEPT(close, timeperiod=14) - close) / close\n",
    "\n",
    "df['AD'] = talib.AD(high, low, close, volume) / close\n",
    "df['ADOSC'] = talib.ADOSC(high, low, close, volume, fastperiod=3, slowperiod=10) / close\n",
    "df['APO'] = talib.APO(close, fastperiod=12, slowperiod=26, matype=0) / close\n",
    "df['HT_PHASOR_inphase'], df['HT_PHASOR_quadrature'] = talib.HT_PHASOR(close)\n",
    "df['HT_PHASOR_inphase'] /= close\n",
    "df['HT_PHASOR_quadrature'] /= close\n",
    "df['LINEARREG_SLOPE'] = talib.LINEARREG_SLOPE(close, timeperiod=14) / close\n",
    "df['MACD_macd'], df['MACD_macdsignal'], df['MACD_macdhist'] = talib.MACD(close, fastperiod=12, slowperiod=26, signalperiod=9)\n",
    "df['MACD_macd'] /= close\n",
    "df['MACD_macdsignal'] /= close\n",
    "df['MACD_macdhist'] /= close\n",
    "df['MINUS_DM'] = talib.MINUS_DM(high, low, timeperiod=14) / close\n",
    "df['MOM'] = talib.MOM(close, timeperiod=10) / close\n",
    "df['OBV'] = talib.OBV(close, volume) / close\n",
    "df['PLUS_DM'] = talib.PLUS_DM(high, low, timeperiod=14) / close\n",
    "df['STDDEV'] = talib.STDDEV(close, timeperiod=5, nbdev=1) / close\n",
    "df['TRANGE'] = talib.TRANGE(high, low, close) / close\n",
    "\n",
    "##Momentum Indicators\n",
    "df['ADX'] = talib.ADX(high, low, close, timeperiod=14)\n",
    "df['ADXR'] = talib.ADXR(high, low, close, timeperiod=14)\n",
    "df['AROON_aroondown'], df['AROON_aroonup'] = talib.AROON(high, low, timeperiod=14)\n",
    "df['AROONOSC'] = talib.AROONOSC(high, low, timeperiod=14)\n",
    "df['BOP'] = talib.BOP(open, high, low, close)\n",
    "df['CCI'] = talib.CCI(high, low, close, timeperiod=14)\n",
    "df['DX'] = talib.DX(high, low, close, timeperiod=14)\n",
    "\n",
    "df['MFI'] = talib.MFI(high, low, close, volume, timeperiod=14)\n",
    "df['MINUS_DI'] = talib.MINUS_DI(high, low, close, timeperiod=14)\n",
    "df['PLUS_DI'] = talib.PLUS_DI(high, low, close, timeperiod=14)\n",
    "df['RSI'] = talib.RSI(close, timeperiod=14)\n",
    "df['STOCH_slowk'], df['STOCH_slowd'] = talib.STOCH(high, low, close, fastk_period=5, slowk_period=3, slowk_matype=0, slowd_period=3, slowd_matype=0)\n",
    "df['STOCHF_fastk'], df['STOCHF_fastd'] = talib.STOCHF(high, low, close, fastk_period=5, fastd_period=3, fastd_matype=0)\n",
    "df['STOCHRSI_fastk'], df['STOCHRSI_fastd'] = talib.STOCHRSI(close, timeperiod=14, fastk_period=5, fastd_period=3, fastd_matype=0)\n",
    "df['TRIX'] = talib.TRIX(close, timeperiod=30)\n",
    "df['ULTOSC'] = talib.ULTOSC(high, low, close, timeperiod1=7, timeperiod2=14, timeperiod3=28)\n",
    "df['WILLR'] = talib.WILLR(high, low, close, timeperiod=14)\n",
    "\n",
    "df['ATR'] = talib.ATR(high, low, close, timeperiod=14)  # Chỉ báo về biên động thị trường\n",
    "df['NATR'] = talib.NATR(high, low, close, timeperiod=14)\n",
    "\n",
    "df['HT_DCPERIOD'] = talib.HT_DCPERIOD(close)\n",
    "df['HT_DCPHASE'] = talib.HT_DCPHASE(close)\n",
    "df['HT_SINE_sine'], df['HT_SINE_leadsine'] = talib.HT_SINE(close)\n",
    "df['HT_TRENDMODE'] = talib.HT_TRENDMODE(close)\n",
    "\n",
    "df['BETA'] = talib.BETA(high, low, timeperiod=5)\n",
    "df['CORREL'] = talib.CORREL(high, low, timeperiod=30)\n",
    "\n",
    "df['LINEARREG_ANGLE'] = talib.LINEARREG_ANGLE(close, timeperiod=14)\n",
    "diff =pd.DataFrame.median(diff)\n",
    "print(diff)\n",
    "## Pattern Recognition"
   ],
   "metadata": {
    "collapsed": false
   }
  },
  {
   "cell_type": "code",
   "execution_count": 233,
   "outputs": [],
   "source": [
    "#Phân nhóm dữ liệu\n",
    "pipdiff = diff  # for TP\n",
    "SLTPRatio = 2   # pipdiff/Ratio gives SL\n",
    "\n",
    "\n",
    "def mytarget(barsupfront, df1):\n",
    "    length = len(df1)\n",
    "    high = list(df1['high'])\n",
    "    low = list(df1['low'])\n",
    "    close = list(df1['close'])\n",
    "    open = list(df1['open'])\n",
    "    trendcat = [None] * length\n",
    "\n",
    "    for line in range(0, length - barsupfront - 2):\n",
    "        valueOpenLow = 0\n",
    "        valueOpenHigh = 0\n",
    "        for i in range(1, barsupfront + 2):\n",
    "            value1 = open[line + 1] - low[line + i]\n",
    "            value2 = open[line + 1] - high[line + i]\n",
    "            valueOpenLow = max(value1, valueOpenLow)\n",
    "            valueOpenHigh = min(value2, valueOpenHigh)\n",
    "\n",
    "            if ((valueOpenLow >= pipdiff) and (-valueOpenHigh <= (pipdiff / SLTPRatio))):\n",
    "                trendcat[line] = 1  # -1 downtrend\n",
    "                break\n",
    "            elif ((valueOpenLow <= (pipdiff / SLTPRatio)) and (-valueOpenHigh >= pipdiff)):\n",
    "                trendcat[line] = 2  # uptrend\n",
    "                break\n",
    "            else:\n",
    "                trendcat[line] = 0  # no clear trend\n",
    "\n",
    "    return trendcat\n",
    "df['mytarget'] = mytarget(16, df)\n",
    "\n",
    "\n"
   ],
   "metadata": {
    "collapsed": false
   }
  },
  {
   "cell_type": "code",
   "execution_count": 234,
   "outputs": [],
   "source": [
    "df.to_csv('target.csv',index =False)"
   ],
   "metadata": {
    "collapsed": false
   }
  },
  {
   "cell_type": "code",
   "execution_count": 235,
   "outputs": [],
   "source": [
    "features = sorted([\n",
    "    'ADX',\n",
    "    'ADXR',\n",
    "    'APO',\n",
    "    'AROON_aroondown',\n",
    "    'AROON_aroonup',\n",
    "    'AROONOSC',\n",
    "    'CCI',\n",
    "    'DX',\n",
    "    'MACD_macd',\n",
    "    'MACD_macdsignal',\n",
    "    'MACD_macdhist',\n",
    "    'MFI',\n",
    "    'MOM',\n",
    "    'RSI',\n",
    "    'STOCH_slowk',\n",
    "    'STOCH_slowd',\n",
    "    'STOCHF_fastk',\n",
    "\n",
    "    'ULTOSC',\n",
    "    'WILLR',\n",
    "\n",
    "    'HT_DCPERIOD',\n",
    "    'HT_DCPHASE',\n",
    "    'HT_PHASOR_inphase',\n",
    "    'HT_PHASOR_quadrature',\n",
    "    'HT_TRENDMODE',\n",
    "    'BETA',\n",
    "    'LINEARREG',\n",
    "    'LINEARREG_ANGLE',\n",
    "    'LINEARREG_INTERCEPT',\n",
    "    'LINEARREG_SLOPE',\n",
    "    'STDDEV',\n",
    "    'BBANDS_upperband',\n",
    "    'BBANDS_middleband',\n",
    "    'BBANDS_lowerband',\n",
    "    'DEMA',\n",
    "    'EMA',\n",
    "    'HT_TRENDLINE',\n",
    "    'KAMA',\n",
    "    'MA',\n",
    "    'MIDPOINT',\n",
    "    'T3',\n",
    "    'TEMA',\n",
    "    'TRIMA',\n",
    "    'WMA',\n",
    "])\n",
    "df = df.dropna()\n",
    "X = df[features]\n",
    "y = df[\"mytarget\"]\n"
   ],
   "metadata": {
    "collapsed": false
   }
  },
  {
   "cell_type": "code",
   "execution_count": 236,
   "outputs": [],
   "source": [
    "from sklearn.model_selection import train_test_split\n",
    "X_train, X_test, y_train, y_test = train_test_split(X, y, test_size=0.2, random_state=1)\n"
   ],
   "metadata": {
    "collapsed": false
   }
  },
  {
   "cell_type": "code",
   "execution_count": 237,
   "outputs": [
    {
     "name": "stdout",
     "output_type": "stream",
     "text": [
      "****Train Results****\n",
      "Accuracy: 100.0000%\n",
      "****Test Results****\n",
      "Accuracy: 60.4167%\n"
     ]
    }
   ],
   "source": [
    "from xgboost import XGBClassifier\n",
    "from sklearn.metrics import accuracy_score\n",
    "model = XGBClassifier()\n",
    "model.fit(X_train, y_train)\n",
    "pred_train = model.predict(X_train)\n",
    "pred_test = model.predict(X_test)\n",
    "acc_train = accuracy_score(y_train, pred_train)\n",
    "acc_test = accuracy_score(y_test, pred_test)\n",
    "print('****Train Results****')\n",
    "print(\"Accuracy: {:.4%}\".format(acc_train))\n",
    "print('****Test Results****')\n",
    "print(\"Accuracy: {:.4%}\".format(acc_test))\n"
   ],
   "metadata": {
    "collapsed": false
   }
  },
  {
   "cell_type": "code",
   "execution_count": 238,
   "outputs": [
    {
     "name": "stderr",
     "output_type": "stream",
     "text": [
      "C:\\Users\\DAD\\AppData\\Local\\Temp\\ipykernel_16264\\1226467017.py:3: FutureWarning:\n",
      "\n",
      "The behavior of `series[i:j]` with an integer-dtype index is deprecated. In a future version, this will be treated as *label-based* indexing, consistent with e.g. `series[i]` lookups. To retain the old behavior, use `series.iloc[i:j]`. To get the future behavior, use `series.loc[i:j]`.\n",
      "\n"
     ]
    },
    {
     "name": "stdout",
     "output_type": "stream",
     "text": [
      "****Train Results****\n",
      "Accuracy: 100.0000%\n",
      "****Test Results****\n",
      "Accuracy: 29.1667%\n"
     ]
    }
   ],
   "source": [
    "train_index = int(0.8 * len(X))\n",
    "X_train, X_test = X[:train_index], X[train_index:]\n",
    "y_train, y_test = y[:train_index], y[train_index:]\n",
    "\n",
    "model = XGBClassifier()\n",
    "model.fit(X_train, y_train)\n",
    "pred_train = model.predict(X_train)\n",
    "pred_test = model.predict(X_test)\n",
    "acc_train = accuracy_score(y_train, pred_train)\n",
    "acc_test = accuracy_score(y_test, pred_test)\n",
    "print('****Train Results****')\n",
    "print(\"Accuracy: {:.4%}\".format(acc_train))\n",
    "print('****Test Results****')\n",
    "print(\"Accuracy: {:.4%}\".format(acc_test))"
   ],
   "metadata": {
    "collapsed": false
   }
  },
  {
   "cell_type": "code",
   "execution_count": 239,
   "outputs": [],
   "source": [
    "import joblib\n",
    "\n",
    "##Save Model\n",
    "# filename = 'mymodel1.sav'\n",
    "# joblib.dump(model, filename)\n",
    "\n",
    "#load the model from disk\n",
    "loaded_model = joblib.load('mymodel1.sav')"
   ],
   "metadata": {
    "collapsed": false
   }
  },
  {
   "cell_type": "code",
   "execution_count": 240,
   "outputs": [
    {
     "data": {
      "text/plain": "<Figure size 640x480 with 1 Axes>",
      "image/png": "[encoded data removed]"
     },
     "metadata": {},
     "output_type": "display_data"
    }
   ],
   "source": [
    "from matplotlib import pyplot\n",
    "from xgboost import plot_importance\n",
    "#plot feature importance\n",
    "plot_importance(model)\n",
    "pyplot.show()\n"
   ],
   "metadata": {
    "collapsed": false
   }
  },
  {
   "cell_type": "code",
   "execution_count": 241,
   "outputs": [
    {
     "name": "stderr",
     "output_type": "stream",
     "text": [
      "C:\\Users\\DAD\\AppData\\Local\\Temp\\ipykernel_16264\\4174972494.py:11: SettingWithCopyWarning:\n",
      "\n",
      "\n",
      "A value is trying to be set on a copy of a slice from a DataFrame.\n",
      "Try using .loc[row_indexer,col_indexer] = value instead\n",
      "\n",
      "See the caveats in the documentation: https://pandas.pydata.org/pandas-docs/stable/user_guide/indexing.html#returning-a-view-versus-a-copy\n",
      "\n",
      "C:\\Users\\DAD\\AppData\\Local\\Temp\\ipykernel_16264\\4174972494.py:12: SettingWithCopyWarning:\n",
      "\n",
      "\n",
      "A value is trying to be set on a copy of a slice from a DataFrame.\n",
      "Try using .loc[row_indexer,col_indexer] = value instead\n",
      "\n",
      "See the caveats in the documentation: https://pandas.pydata.org/pandas-docs/stable/user_guide/indexing.html#returning-a-view-versus-a-copy\n",
      "\n",
      "C:\\Users\\DAD\\AppData\\Local\\Temp\\ipykernel_16264\\4174972494.py:13: SettingWithCopyWarning:\n",
      "\n",
      "\n",
      "A value is trying to be set on a copy of a slice from a DataFrame.\n",
      "Try using .loc[row_indexer,col_indexer] = value instead\n",
      "\n",
      "See the caveats in the documentation: https://pandas.pydata.org/pandas-docs/stable/user_guide/indexing.html#returning-a-view-versus-a-copy\n",
      "\n"
     ]
    },
    {
     "data": {
      "text/plain": "88     0\n89     0\n90     0\n91     0\n92     0\n      ..\n319    0\n320    0\n321    0\n322    0\n323    0\nLength: 236, dtype: int32"
     },
     "execution_count": 241,
     "metadata": {},
     "output_type": "execute_result"
    }
   ],
   "source": [
    "import array as arr\n",
    "## Pattern Recognition\n",
    "open = df['open']\n",
    "high = df['high']\n",
    "low  = df['low']\n",
    "close = df['close']\n",
    "volume = df['volume']\n",
    "\n",
    "pr =[]\n",
    "\n",
    "df['2CROWS'] =  talib.CDL2CROWS(open,high,low,close)          #Two Crows\n",
    "df['3BLACKCROWS'] = talib.CDL3BLACKCROWS(open,high,low,close)       #Three Black Crows\n",
    "df[''] = talib.CDL3INSIDE(open,high,low,close)           #Three Inside Up/Down\n",
    "talib.CDL3LINESTRIKE(open,high,low,close)       #Three-Line Strike\n",
    "talib.CDL3OUTSIDE(open,high,low,close)          #Three Outside Up/Down\n",
    "talib.CDL3STARSINSOUTH(open,high,low,close)     #Three Stars In The South\n",
    "talib.CDL3WHITESOLDIERS(open,high,low,close)    #Three Advancing White Soldiers\n",
    "talib.CDLABANDONEDBABY(open,high,low,close)     #Abandoned Baby\n",
    "talib.CDLADVANCEBLOCK(open,high,low,close)      #Advance Block\n",
    "talib.CDLBELTHOLD(open,high,low,close)          #Belt-hold\n",
    "talib.CDLBREAKAWAY(open,high,low,close)         #Breakaway\n",
    "talib.CDLCLOSINGMARUBOZU(open,high,low,close)   #Closing Marubozu\n",
    "talib.CDLCONCEALBABYSWALL(open,high,low,close)  #Concealing Baby Swallow\n",
    "talib.CDLCOUNTERATTACK(open,high,low,close)     #Counterattack\n",
    "talib.CDLDARKCLOUDCOVER(open,high,low,close)    #Dark Cloud Cover\n",
    "talib.CDLDOJI(open,high,low,close)              #Doji\n",
    "talib.CDLDOJISTAR(open,high,low,close)          #Doji Star\n",
    "talib.CDLDRAGONFLYDOJI(open,high,low,close)     #Dragonfly Doji\n",
    "talib.CDLENGULFING(open,high,low,close)         #Engulfing Pattern\n",
    "talib.CDLEVENINGDOJISTAR(open,high,low,close)   #Evening Doji Star\n",
    "talib.CDLEVENINGSTAR(open,high,low,close)       #Evening Star\n",
    "talib.CDLGAPSIDESIDEWHITE(open,high,low,close)  #Up/Down-gap side-by-side white lines\n",
    "talib.CDLGRAVESTONEDOJI(open,high,low,close)    #Gravestone Doji\n",
    "talib.CDLHAMMER(open,high,low,close)            #Hammer\n",
    "talib.CDLHANGINGMAN(open,high,low,close)        #Hanging Man\n",
    "talib.CDLHARAMI(open,high,low,close)            #Harami Pattern\n",
    "talib.CDLHARAMICROSS(open,high,low,close)       #Harami Cross Pattern\n",
    "talib.CDLHIGHWAVE(open,high,low,close)          #High-Wave Candle\n",
    "talib.CDLHIKKAKE(open,high,low,close)           #Hikkake Pattern\n",
    "talib.CDLHIKKAKEMOD(open,high,low,close)        #Modified Hikkake Pattern\n",
    "talib.CDLHOMINGPIGEON(open,high,low,close)      #Homing Pigeon\n",
    "talib.CDLIDENTICAL3CROWS(open,high,low,close)   #Identical Three Crows\n",
    "talib.CDLINNECK(open,high,low,close)            #In-Neck Pattern\n",
    "talib.CDLINVERTEDHAMMER(open,high,low,close)    #Inverted Hammer\n",
    "talib.CDLKICKING(open,high,low,close)           #Kicking\n",
    "talib.CDLKICKINGBYLENGTH(open,high,low,close)   #Kicking - bull/bear determined by the longer marubozu\n",
    "talib.CDLLADDERBOTTOM(open,high,low,close)      #Ladder Bottom\n",
    "talib.CDLLONGLEGGEDDOJI(open,high,low,close)    #Long Legged Doji\n",
    "talib.CDLLONGLINE(open,high,low,close)          #Long Line Candle\n",
    "talib.CDLMARUBOZU(open,high,low,close)          #Marubozu\n",
    "talib.CDLMATCHINGLOW(open,high,low,close)       #Matching Low\n",
    "talib.CDLMATHOLD(open,high,low,close)           #Mat Hold\n",
    "talib.CDLMORNINGDOJISTAR(open,high,low,close)   #Morning Doji Star\n",
    "talib.CDLMORNINGSTAR(open,high,low,close)       #Morning Star\n",
    "talib.CDLONNECK(open,high,low,close)            #On-Neck Pattern\n",
    "talib.CDLPIERCING(open,high,low,close)          #Piercing Pattern\n",
    "talib.CDLRICKSHAWMAN(open,high,low,close)       #Rickshaw Man\n",
    "talib.CDLRISEFALL3METHODS(open,high,low,close)  #Rising/Falling Three Methods\n",
    "talib.CDLSEPARATINGLINES(open,high,low,close)   #Separating Lines\n",
    "talib.CDLSHOOTINGSTAR(open,high,low,close)      #Shooting Star\n",
    "talib.CDLSHORTLINE(open,high,low,close)         #Short Line Candle\n",
    "talib.CDLSPINNINGTOP(open,high,low,close)       #Spinning Top\n",
    "talib.CDLSTALLEDPATTERN(open,high,low,close)    #Stalled Pattern\n",
    "talib.CDLSTICKSANDWICH(open,high,low,close)     #Stick Sandwich\n",
    "talib.CDLTAKURI(open,high,low,close)            #Takuri (Dragonfly Doji with very long lower shadow)\n",
    "talib.CDLTASUKIGAP(open,high,low,close)         #Tasuki Gap\n",
    "talib.CDLTHRUSTING(open,high,low,close)         #Thrusting Pattern\n",
    "talib.CDLTRISTAR(open,high,low,close)           #Tristar Pattern\n",
    "talib.CDLUNIQUE3RIVER(open,high,low,close)      #Unique 3 River\n",
    "talib.CDLUPSIDEGAP2CROWS(open,high,low,close)   #Upside Gap Two Crows\n",
    "talib.CDLXSIDEGAP3METHODS(open,high,low,close)  #Upside/Downside Gap Three Methods"
   ],
   "metadata": {
    "collapsed": false
   }
  },
  {
   "cell_type": "code",
   "execution_count": 242,
   "outputs": [],
   "source": [
    "##BackTest :\n",
    "class TradingEnv:\n",
    "    def __init__(self, balance_amount, balance_unit, trading_fee_multiplier):\n",
    "        self.balance_amount = balance_amount\n",
    "        self.balance_unit = balance_unit\n",
    "        self.buys = []\n",
    "        self.sells = []\n",
    "        self.trading_fee_multiplier = trading_fee_multiplier\n",
    "    def buy(self, buy_price, time):\n",
    "        self.balance_amount = (self.balance_amount / buy_price) * self.trading_fee_multiplier\n",
    "        self.buys.append([ time, buy_price])\n",
    "\n",
    "    def sell(self, sell_price, time):\n",
    "        self.balance_amount = self.balance_amount * sell_price * self.trading_fee_multiplier\n",
    "        self.sells.append( [self.balance_unit, time, sell_price] )\n",
    "        self.balance_unit = 'USDT'\n",
    "\n"
   ],
   "metadata": {
    "collapsed": false
   }
  },
  {
   "cell_type": "code",
   "execution_count": 243,
   "outputs": [
    {
     "name": "stdout",
     "output_type": "stream",
     "text": [
      "0.0023738601910292772\n",
      "96.3684449411615\n",
      "0.0024754530083047686\n",
      "97.71781437598843\n",
      "0.0025132258349548466\n",
      "77.15351990727883\n",
      "0.0026167040836791193\n",
      "80.33281536894896\n",
      "0.003970582017049672\n",
      "85.59943506218382\n",
      "0.004510691360872119\n",
      "97.81226724248592\n",
      "0.004532639122172479\n",
      "104.2541899420911\n",
      "0.0046840763503903735\n",
      "113.33038416395202\n",
      "0.004787686657635391\n",
      "104.37156913645151\n",
      "0.005346904156580508\n",
      "109.25660771198659\n",
      "0.005591433352711698\n",
      "113.9861775277113\n",
      "0.006170995054360679\n",
      "124.5615351722703\n",
      "0.006567664414847626\n",
      "131.0371866086659\n",
      "0.006905715076677318\n",
      "133.61053227483893\n",
      "0.006512821461118154\n",
      "109.0962722951902\n",
      "0.006742662070160087\n",
      "109.0962722951902\n"
     ]
    }
   ],
   "source": [
    "from plot_chart import plot_results\n",
    "# VIP level 0, paying fees with BNB = 0.075%\n",
    "env = TradingEnv(balance_amount=100,balance_unit='USDT', trading_fee_multiplier=0.99925)\n",
    "balance = 100.00\n",
    "tokenunit = 0.00\n",
    "buy = True\n",
    "buys =[]\n",
    "sells = []\n",
    "\n",
    "\n",
    "for i in range(len(df)) :\n",
    "    X_stream  = df.iloc[[i]]\n",
    "    X_model = X_stream[features]\n",
    "    ModelPrediction = loaded_model.predict(X_model)\n",
    "    #Buy Signal\n",
    "    if ModelPrediction == 2 and buy == True :\n",
    "         tokenunit = balance/df['low'].iloc[i]\n",
    "         buys.append([df['time'].iloc[i],df['low'].iloc[i]])\n",
    "\n",
    "\n",
    "         print(tokenunit)\n",
    "         buy = False\n",
    "    if ModelPrediction == 1 and buy == False :\n",
    "        balance = tokenunit*df['high'].iloc[i]\n",
    "        sells.append([df['time'].iloc[i],df['high'].iloc[i]])\n",
    "        tokenunit=0\n",
    "        print(balance)\n",
    "        buy = True\n",
    "\n",
    "# print(f'num buys: {len(env.buys)}')\n",
    "# print(f'num sells: {len(env.sells)}')\n",
    "# print(f'ending balance: {env.balance_amount} {env.balance_unit}')\n",
    "# plot_results(df,env.buys, env.sells)\n",
    "# b.to_csv('his.csv',index=False)\n",
    "# print(len(buys))\n",
    "# print(balance)\n",
    "for i in range(len(sells)) :\n",
    "    "
   ],
   "metadata": {
    "collapsed": false
   }
  },
  {
   "cell_type": "code",
   "execution_count": 246,
   "outputs": [
    {
     "data": {
      "application/vnd.plotly.v1+json": {
       "data": [
        {
         "close": [
          47067.99,
          45510.34,
          46283.49,
          45811.0,
          46407.35,
          46580.51,
          45497.55,
          43170.47,
          43444.19,
          42252.01,
          42753.97,
          42158.85,
          39530.45,
          40074.94,
          41147.79,
          39942.38,
          40551.9,
          40378.71,
          39678.12,
          40801.13,
          41493.18,
          41358.19,
          40480.01,
          39709.18,
          39441.6,
          39450.13,
          40426.08,
          38112.65,
          39235.72,
          39742.07,
          38596.11,
          37630.8,
          38468.35,
          38525.16,
          37728.95,
          39690.0,
          36552.97,
          36013.77,
          35472.39,
          34038.4,
          30076.31,
          31017.1,
          29103.94,
          29029.75,
          29287.05,
          30086.74,
          31328.89,
          29874.01,
          30444.93,
          28715.32,
          30319.23,
          29201.01,
          29445.06,
          30293.94,
          29109.15,
          29654.58,
          29542.15,
          29201.35,
          28629.8,
          29031.33,
          29468.1,
          31734.22,
          31801.04,
          29805.83,
          30452.62,
          29700.21,
          29864.04,
          29919.21,
          31373.1,
          31125.33,
          30204.77,
          30109.93,
          29091.88,
          28424.7,
          26574.53,
          22487.41,
          22136.41,
          22583.72,
          20401.31,
          20468.81,
          18970.79,
          20574.0,
          20573.89,
          20723.52,
          19987.99,
          21110.13,
          21237.69,
          21491.19,
          21038.07,
          20742.56,
          20281.29,
          20123.01,
          19942.21,
          19279.8,
          19252.81,
          19315.83,
          20236.71,
          20175.83,
          20564.51,
          21624.98,
          21594.75,
          21591.83,
          20862.47,
          19963.61,
          19328.75,
          20234.87,
          20588.84,
          20830.04,
          21195.6,
          20798.16,
          22432.58,
          23396.62,
          23223.3,
          23152.19,
          22684.83,
          22451.07,
          22579.68,
          21310.9,
          21254.67,
          22952.45,
          23842.93,
          23773.75,
          23643.51,
          23293.32,
          23268.01,
          22987.79,
          22818.37,
          22622.98,
          23312.42,
          22954.21,
          23174.39,
          23810.0,
          23149.95,
          23954.05,
          23934.39,
          24403.68,
          24441.38,
          24305.24,
          24094.82,
          23854.74,
          23342.66,
          23191.2,
          20834.39,
          21140.07,
          21515.61,
          21399.83,
          21529.12,
          21368.08,
          21559.04,
          20241.05,
          20037.6,
          19555.61,
          20285.73,
          19811.66,
          20050.02,
          20131.46,
          19951.86,
          19831.9,
          20000.3,
          19796.84,
          18790.61,
          19292.84,
          19319.77,
          21360.11,
          21648.34,
          21826.87,
          22395.74,
          20173.57,
          20226.71,
          19701.88,
          19803.3,
          20113.62,
          19416.18,
          19537.02,
          18875.0,
          18461.36,
          19401.63,
          19289.91,
          18920.5,
          18807.38,
          19227.82,
          19079.13,
          19412.82,
          19591.51,
          19422.61,
          19310.95,
          19056.8,
          19629.08,
          20337.82,
          20158.26,
          19960.67,
          19530.09,
          19417.96,
          19439.02,
          19131.87,
          19060.0,
          19155.53,
          19375.13,
          19176.93,
          19069.39,
          19262.98,
          19549.86,
          19327.44,
          19123.97,
          19041.92,
          19164.37,
          19204.35,
          19570.4,
          19329.72,
          20080.07,
          20771.59,
          20295.11,
          20591.84,
          20809.67,
          20627.48,
          20490.74,
          20483.62,
          20151.84,
          20207.82,
          21148.52,
          21299.37,
          20905.58,
          20591.13,
          18547.23,
          15922.81,
          17601.15,
          17070.31,
          16812.08,
          16329.85,
          16619.46,
          16900.57,
          16662.76,
          16692.56,
          16700.45,
          16700.68,
          16280.23
         ],
         "high": [
          47700.22,
          47600.0,
          46720.09,
          47213.0,
          47444.11,
          46890.71,
          47200.0,
          45507.14,
          43900.99,
          43970.62,
          42800.0,
          43410.3,
          42414.71,
          40699.0,
          41561.31,
          41500.0,
          40870.36,
          40709.35,
          40595.67,
          41116.73,
          41760.0,
          42199.0,
          42976.0,
          40795.06,
          39980.0,
          39940.0,
          40616.0,
          40797.31,
          39474.72,
          40372.63,
          39925.25,
          38795.38,
          38675.0,
          39167.34,
          38651.51,
          40023.77,
          39845.51,
          36675.63,
          36146.3,
          35514.22,
          34243.15,
          32658.99,
          32162.59,
          30243.0,
          31083.37,
          30343.27,
          31460.0,
          31328.9,
          30788.37,
          30709.99,
          30545.18,
          30777.33,
          29656.18,
          30487.99,
          30670.51,
          29845.86,
          30223.74,
          29886.64,
          29397.66,
          29266.0,
          29587.78,
          32222.0,
          32399.0,
          31982.97,
          30689.0,
          30699.0,
          29988.88,
          30189.0,
          31765.64,
          31589.6,
          31327.22,
          30700.0,
          30382.8,
          29440.41,
          28544.96,
          26895.84,
          23362.88,
          22800.0,
          22995.73,
          21365.43,
          20792.06,
          20815.95,
          21090.0,
          21723.0,
          20900.0,
          21233.0,
          21558.41,
          21614.5,
          21888.0,
          21539.85,
          21212.1,
          20432.31,
          20179.08,
          20918.35,
          19467.39,
          19647.63,
          20354.01,
          20750.0,
          20675.22,
          21838.1,
          22527.37,
          21980.0,
          21607.65,
          20868.48,
          20059.42,
          20366.61,
          20900.0,
          21200.0,
          21588.94,
          21684.54,
          22777.63,
          23800.0,
          24276.74,
          23442.77,
          23756.49,
          23000.77,
          23014.64,
          22666.0,
          21347.82,
          23112.63,
          24199.72,
          24442.66,
          24668.0,
          24194.82,
          23509.68,
          23459.89,
          23647.68,
          23223.32,
          23472.86,
          23354.36,
          23402.0,
          24245.0,
          23933.25,
          24226.0,
          24918.54,
          24456.5,
          24888.0,
          25047.56,
          25211.32,
          24247.49,
          24446.71,
          23600.0,
          23208.67,
          21382.85,
          21800.0,
          21548.71,
          21684.87,
          21900.0,
          21819.88,
          21886.77,
          20402.93,
          20171.18,
          20433.62,
          20576.25,
          20490.0,
          20208.37,
          20441.26,
          20055.93,
          20029.23,
          20057.27,
          20180.0,
          19464.06,
          19458.25,
          21597.22,
          21810.8,
          21860.0,
          22488.0,
          22799.0,
          20541.48,
          20330.24,
          19890.0,
          20189.0,
          20117.26,
          19686.2,
          19634.62,
          19956.0,
          19550.17,
          19500.0,
          19316.14,
          19180.21,
          19318.96,
          20385.86,
          19790.0,
          19645.52,
          20185.0,
          19484.0,
          19395.91,
          19719.1,
          20475.0,
          20365.6,
          20456.6,
          20068.82,
          19627.38,
          19558.0,
          19525.0,
          19268.09,
          19238.31,
          19513.79,
          19951.87,
          19227.68,
          19425.84,
          19676.96,
          19706.66,
          19360.16,
          19347.82,
          19250.0,
          19257.0,
          19695.0,
          19601.15,
          20415.87,
          21020.0,
          20872.21,
          20750.0,
          21085.0,
          20931.21,
          20845.92,
          20700.0,
          20800.0,
          20393.32,
          21302.05,
          21480.65,
          21365.27,
          21069.77,
          20700.88,
          18587.76,
          18199.0,
          17695.0,
          17119.1,
          16954.28,
          17190.0,
          17134.69,
          17015.92,
          16751.0,
          17011.0,
          16822.41,
          16753.33
         ],
         "low": [
          46445.42,
          45200.0,
          44200.0,
          45620.0,
          45530.92,
          45118.0,
          45353.81,
          43121.0,
          42727.35,
          42107.14,
          42125.48,
          41868.0,
          39200.0,
          39254.63,
          39588.54,
          39551.94,
          39766.4,
          39991.55,
          39546.17,
          38536.51,
          40571.0,
          40820.0,
          39751.0,
          39177.0,
          39285.0,
          38929.62,
          38200.0,
          37702.26,
          37881.31,
          38881.43,
          38175.0,
          37578.2,
          37386.38,
          38052.0,
          37517.8,
          37670.0,
          35571.9,
          35258.0,
          34785.0,
          33713.95,
          30033.33,
          29730.4,
          27785.0,
          26700.0,
          28751.67,
          28630.0,
          29480.0,
          29087.04,
          29450.38,
          28654.47,
          28691.38,
          28730.0,
          28947.28,
          29255.11,
          28866.35,
          28669.0,
          29294.21,
          28019.56,
          28282.9,
          28450.0,
          28839.21,
          29299.62,
          31200.01,
          29301.0,
          29594.55,
          29282.36,
          29485.0,
          29531.42,
          29890.23,
          29218.96,
          29843.88,
          29944.1,
          28850.0,
          28099.99,
          26560.0,
          21925.77,
          20846.0,
          20111.62,
          20232.0,
          20246.66,
          17622.0,
          17960.41,
          19637.03,
          20348.4,
          19770.51,
          19890.07,
          20736.72,
          20906.62,
          20964.73,
          20510.0,
          20202.01,
          19854.92,
          18626.0,
          18975.0,
          18977.01,
          18781.0,
          19055.31,
          19304.4,
          19761.25,
          20251.68,
          21189.26,
          21322.12,
          20655.0,
          19875.23,
          19240.0,
          18910.94,
          19616.07,
          20382.29,
          20478.61,
          20750.01,
          20762.45,
          21579.54,
          22906.19,
          22341.46,
          22500.0,
          21934.57,
          22257.15,
          21250.0,
          20706.5,
          21042.53,
          22582.13,
          23414.03,
          23502.25,
          23227.31,
          22850.0,
          22654.37,
          22681.22,
          22400.0,
          22586.95,
          22909.52,
          22844.62,
          23154.25,
          22865.0,
          22664.69,
          23852.13,
          23583.0,
          24291.22,
          24144.0,
          23773.22,
          23671.22,
          23180.4,
          23111.04,
          20783.57,
          20761.9,
          21069.11,
          20890.18,
          20890.14,
          21145.0,
          21310.15,
          20107.9,
          19800.0,
          19520.0,
          19550.79,
          19540.0,
          19797.94,
          19565.66,
          19755.29,
          19652.72,
          19583.1,
          19633.83,
          18649.51,
          18510.77,
          19012.0,
          19291.75,
          21111.13,
          21350.0,
          21538.51,
          19860.0,
          19617.62,
          19497.0,
          19320.01,
          19748.08,
          19335.62,
          18232.56,
          18711.87,
          18125.98,
          18356.39,
          18531.42,
          18805.34,
          18629.2,
          18680.72,
          18816.32,
          18471.28,
          18843.01,
          19155.36,
          19159.42,
          18920.35,
          18959.68,
          19490.6,
          19730.0,
          19853.0,
          19320.0,
          19237.14,
          19316.04,
          19020.25,
          18860.0,
          18965.88,
          18190.0,
          19070.37,
          18975.18,
          19063.74,
          19152.03,
          19091.0,
          19065.97,
          18900.0,
          18650.0,
          19112.72,
          19070.11,
          19157.0,
          19237.0,
          20050.41,
          20200.0,
          20000.09,
          20554.01,
          20515.0,
          20237.95,
          20330.74,
          20048.04,
          20031.24,
          20180.96,
          21080.65,
          20886.13,
          20384.89,
          17166.83,
          15588.0,
          15754.26,
          16361.6,
          16631.39,
          16229.0,
          15815.21,
          16527.72,
          16378.61,
          16410.74,
          16546.04,
          16553.53,
          16180.0
         ],
         "open": [
          47434.79,
          47067.99,
          45510.35,
          46283.49,
          45810.99,
          46407.36,
          46580.5,
          45497.54,
          43170.47,
          43444.2,
          42252.02,
          42753.96,
          42158.85,
          39530.45,
          40074.95,
          41147.78,
          39942.37,
          40551.9,
          40378.7,
          39678.11,
          40801.13,
          41493.19,
          41358.19,
          40480.01,
          39709.19,
          39441.61,
          39450.12,
          40426.08,
          38112.64,
          39235.72,
          39742.06,
          38596.11,
          37630.8,
          38468.35,
          38525.16,
          37728.95,
          39690.0,
          36552.97,
          36013.77,
          35472.4,
          34038.39,
          30074.23,
          31017.11,
          29103.94,
          29029.74,
          29287.05,
          30086.74,
          31328.89,
          29874.01,
          30444.93,
          28715.33,
          30319.22,
          29201.01,
          29445.07,
          30293.93,
          29109.14,
          29654.58,
          29542.14,
          29201.35,
          28629.81,
          29031.33,
          29468.1,
          31734.23,
          31801.05,
          29805.84,
          30452.63,
          29700.21,
          29864.03,
          29919.2,
          31373.1,
          31125.32,
          30204.77,
          30109.93,
          29091.87,
          28424.71,
          26574.53,
          22485.27,
          22136.42,
          22583.72,
          20400.6,
          20468.81,
          18970.79,
          20574.0,
          20573.9,
          20723.51,
          19988.0,
          21110.12,
          21237.68,
          21491.18,
          21038.08,
          20742.57,
          20281.28,
          20123.0,
          19942.21,
          19279.8,
          19252.82,
          19315.83,
          20236.71,
          20175.84,
          20564.51,
          21624.99,
          21594.75,
          21592.15,
          20861.11,
          19963.61,
          19331.28,
          20234.87,
          20588.84,
          20830.04,
          21195.6,
          20799.58,
          22432.58,
          23398.48,
          23223.3,
          23152.19,
          22684.83,
          22448.58,
          22577.13,
          21310.9,
          21254.67,
          22954.31,
          23845.25,
          23777.28,
          23644.64,
          23296.36,
          23266.9,
          22985.93,
          22816.91,
          22622.41,
          23313.56,
          22954.21,
          23174.39,
          23810.98,
          23151.32,
          23954.05,
          23933.09,
          24401.7,
          24443.06,
          24305.25,
          24093.04,
          23856.15,
          23342.66,
          23191.45,
          20834.39,
          21140.07,
          21516.7,
          21400.75,
          21529.11,
          21368.05,
          21559.04,
          20239.14,
          20037.6,
          19555.61,
          20287.2,
          19813.03,
          20048.44,
          20132.64,
          19950.98,
          19832.45,
          20000.3,
          19795.34,
          18790.61,
          19292.85,
          19320.54,
          21361.62,
          21647.21,
          21826.87,
          22395.44,
          20173.62,
          20227.17,
          19701.88,
          19803.3,
          20112.61,
          19417.45,
          19537.02,
          18874.31,
          18461.36,
          19401.63,
          19288.57,
          18921.99,
          18809.13,
          19226.68,
          19078.1,
          19412.82,
          19590.54,
          19422.61,
          19312.24,
          19057.74,
          19629.08,
          20337.82,
          20158.26,
          19960.67,
          19530.09,
          19416.52,
          19439.96,
          19131.87,
          19060.0,
          19155.1,
          19375.58,
          19176.93,
          19068.4,
          19262.98,
          19548.48,
          19327.44,
          19123.35,
          19041.92,
          19164.37,
          19204.29,
          19570.4,
          19330.6,
          20079.02,
          20771.61,
          20295.11,
          20591.84,
          20809.68,
          20627.48,
          20490.74,
          20482.81,
          20151.84,
          20207.12,
          21148.52,
          21299.37,
          20905.58,
          20590.67,
          18545.38,
          15922.68,
          17602.45,
          17069.98,
          16813.16,
          16331.78,
          16617.72,
          16900.57,
          16661.61,
          16692.56,
          16699.43,
          16700.68
         ],
         "x": [
          "2022-03-30T07:00:00",
          "2022-03-31T07:00:00",
          "2022-04-01T07:00:00",
          "2022-04-02T07:00:00",
          "2022-04-03T07:00:00",
          "2022-04-04T07:00:00",
          "2022-04-05T07:00:00",
          "2022-04-06T07:00:00",
          "2022-04-07T07:00:00",
          "2022-04-08T07:00:00",
          "2022-04-09T07:00:00",
          "2022-04-10T07:00:00",
          "2022-04-11T07:00:00",
          "2022-04-12T07:00:00",
          "2022-04-13T07:00:00",
          "2022-04-14T07:00:00",
          "2022-04-15T07:00:00",
          "2022-04-16T07:00:00",
          "2022-04-17T07:00:00",
          "2022-04-18T07:00:00",
          "2022-04-19T07:00:00",
          "2022-04-20T07:00:00",
          "2022-04-21T07:00:00",
          "2022-04-22T07:00:00",
          "2022-04-23T07:00:00",
          "2022-04-24T07:00:00",
          "2022-04-25T07:00:00",
          "2022-04-26T07:00:00",
          "2022-04-27T07:00:00",
          "2022-04-28T07:00:00",
          "2022-04-29T07:00:00",
          "2022-04-30T07:00:00",
          "2022-05-01T07:00:00",
          "2022-05-02T07:00:00",
          "2022-05-03T07:00:00",
          "2022-05-04T07:00:00",
          "2022-05-05T07:00:00",
          "2022-05-06T07:00:00",
          "2022-05-07T07:00:00",
          "2022-05-08T07:00:00",
          "2022-05-09T07:00:00",
          "2022-05-10T07:00:00",
          "2022-05-11T07:00:00",
          "2022-05-12T07:00:00",
          "2022-05-13T07:00:00",
          "2022-05-14T07:00:00",
          "2022-05-15T07:00:00",
          "2022-05-16T07:00:00",
          "2022-05-17T07:00:00",
          "2022-05-18T07:00:00",
          "2022-05-19T07:00:00",
          "2022-05-20T07:00:00",
          "2022-05-21T07:00:00",
          "2022-05-22T07:00:00",
          "2022-05-23T07:00:00",
          "2022-05-24T07:00:00",
          "2022-05-25T07:00:00",
          "2022-05-26T07:00:00",
          "2022-05-27T07:00:00",
          "2022-05-28T07:00:00",
          "2022-05-29T07:00:00",
          "2022-05-30T07:00:00",
          "2022-05-31T07:00:00",
          "2022-06-01T07:00:00",
          "2022-06-02T07:00:00",
          "2022-06-03T07:00:00",
          "2022-06-04T07:00:00",
          "2022-06-05T07:00:00",
          "2022-06-06T07:00:00",
          "2022-06-07T07:00:00",
          "2022-06-08T07:00:00",
          "2022-06-09T07:00:00",
          "2022-06-10T07:00:00",
          "2022-06-11T07:00:00",
          "2022-06-12T07:00:00",
          "2022-06-13T07:00:00",
          "2022-06-14T07:00:00",
          "2022-06-15T07:00:00",
          "2022-06-16T07:00:00",
          "2022-06-17T07:00:00",
          "2022-06-18T07:00:00",
          "2022-06-19T07:00:00",
          "2022-06-20T07:00:00",
          "2022-06-21T07:00:00",
          "2022-06-22T07:00:00",
          "2022-06-23T07:00:00",
          "2022-06-24T07:00:00",
          "2022-06-25T07:00:00",
          "2022-06-26T07:00:00",
          "2022-06-27T07:00:00",
          "2022-06-28T07:00:00",
          "2022-06-29T07:00:00",
          "2022-06-30T07:00:00",
          "2022-07-01T07:00:00",
          "2022-07-02T07:00:00",
          "2022-07-03T07:00:00",
          "2022-07-04T07:00:00",
          "2022-07-05T07:00:00",
          "2022-07-06T07:00:00",
          "2022-07-07T07:00:00",
          "2022-07-08T07:00:00",
          "2022-07-09T07:00:00",
          "2022-07-10T07:00:00",
          "2022-07-11T07:00:00",
          "2022-07-12T07:00:00",
          "2022-07-13T07:00:00",
          "2022-07-14T07:00:00",
          "2022-07-15T07:00:00",
          "2022-07-16T07:00:00",
          "2022-07-17T07:00:00",
          "2022-07-18T07:00:00",
          "2022-07-19T07:00:00",
          "2022-07-20T07:00:00",
          "2022-07-21T07:00:00",
          "2022-07-22T07:00:00",
          "2022-07-23T07:00:00",
          "2022-07-24T07:00:00",
          "2022-07-25T07:00:00",
          "2022-07-26T07:00:00",
          "2022-07-27T07:00:00",
          "2022-07-28T07:00:00",
          "2022-07-29T07:00:00",
          "2022-07-30T07:00:00",
          "2022-07-31T07:00:00",
          "2022-08-01T07:00:00",
          "2022-08-02T07:00:00",
          "2022-08-03T07:00:00",
          "2022-08-04T07:00:00",
          "2022-08-05T07:00:00",
          "2022-08-06T07:00:00",
          "2022-08-07T07:00:00",
          "2022-08-08T07:00:00",
          "2022-08-09T07:00:00",
          "2022-08-10T07:00:00",
          "2022-08-11T07:00:00",
          "2022-08-12T07:00:00",
          "2022-08-13T07:00:00",
          "2022-08-14T07:00:00",
          "2022-08-15T07:00:00",
          "2022-08-16T07:00:00",
          "2022-08-17T07:00:00",
          "2022-08-18T07:00:00",
          "2022-08-19T07:00:00",
          "2022-08-20T07:00:00",
          "2022-08-21T07:00:00",
          "2022-08-22T07:00:00",
          "2022-08-23T07:00:00",
          "2022-08-24T07:00:00",
          "2022-08-25T07:00:00",
          "2022-08-26T07:00:00",
          "2022-08-27T07:00:00",
          "2022-08-28T07:00:00",
          "2022-08-29T07:00:00",
          "2022-08-30T07:00:00",
          "2022-08-31T07:00:00",
          "2022-09-01T07:00:00",
          "2022-09-02T07:00:00",
          "2022-09-03T07:00:00",
          "2022-09-04T07:00:00",
          "2022-09-05T07:00:00",
          "2022-09-06T07:00:00",
          "2022-09-07T07:00:00",
          "2022-09-08T07:00:00",
          "2022-09-09T07:00:00",
          "2022-09-10T07:00:00",
          "2022-09-11T07:00:00",
          "2022-09-12T07:00:00",
          "2022-09-13T07:00:00",
          "2022-09-14T07:00:00",
          "2022-09-15T07:00:00",
          "2022-09-16T07:00:00",
          "2022-09-17T07:00:00",
          "2022-09-18T07:00:00",
          "2022-09-19T07:00:00",
          "2022-09-20T07:00:00",
          "2022-09-21T07:00:00",
          "2022-09-22T07:00:00",
          "2022-09-23T07:00:00",
          "2022-09-24T07:00:00",
          "2022-09-25T07:00:00",
          "2022-09-26T07:00:00",
          "2022-09-27T07:00:00",
          "2022-09-28T07:00:00",
          "2022-09-29T07:00:00",
          "2022-09-30T07:00:00",
          "2022-10-01T07:00:00",
          "2022-10-02T07:00:00",
          "2022-10-03T07:00:00",
          "2022-10-04T07:00:00",
          "2022-10-05T07:00:00",
          "2022-10-06T07:00:00",
          "2022-10-07T07:00:00",
          "2022-10-08T07:00:00",
          "2022-10-09T07:00:00",
          "2022-10-10T07:00:00",
          "2022-10-11T07:00:00",
          "2022-10-12T07:00:00",
          "2022-10-13T07:00:00",
          "2022-10-14T07:00:00",
          "2022-10-15T07:00:00",
          "2022-10-16T07:00:00",
          "2022-10-17T07:00:00",
          "2022-10-18T07:00:00",
          "2022-10-19T07:00:00",
          "2022-10-20T07:00:00",
          "2022-10-21T07:00:00",
          "2022-10-22T07:00:00",
          "2022-10-23T07:00:00",
          "2022-10-24T07:00:00",
          "2022-10-25T07:00:00",
          "2022-10-26T07:00:00",
          "2022-10-27T07:00:00",
          "2022-10-28T07:00:00",
          "2022-10-29T07:00:00",
          "2022-10-30T07:00:00",
          "2022-10-31T07:00:00",
          "2022-11-01T07:00:00",
          "2022-11-02T07:00:00",
          "2022-11-03T07:00:00",
          "2022-11-04T07:00:00",
          "2022-11-05T07:00:00",
          "2022-11-06T07:00:00",
          "2022-11-07T07:00:00",
          "2022-11-08T07:00:00",
          "2022-11-09T07:00:00",
          "2022-11-10T07:00:00",
          "2022-11-11T07:00:00",
          "2022-11-12T07:00:00",
          "2022-11-13T07:00:00",
          "2022-11-14T07:00:00",
          "2022-11-15T07:00:00",
          "2022-11-16T07:00:00",
          "2022-11-17T07:00:00",
          "2022-11-18T07:00:00",
          "2022-11-19T07:00:00",
          "2022-11-20T07:00:00"
         ],
         "type": "candlestick"
        }
       ],
       "layout": {
        "template": {
         "data": {
          "histogram2dcontour": [
           {
            "type": "histogram2dcontour",
            "colorbar": {
             "outlinewidth": 0,
             "ticks": ""
            },
            "colorscale": [
             [
              0.0,
              "#0d0887"
             ],
             [
              0.1111111111111111,
              "#46039f"
             ],
             [
              0.2222222222222222,
              "#7201a8"
             ],
             [
              0.3333333333333333,
              "#9c179e"
             ],
             [
              0.4444444444444444,
              "#bd3786"
             ],
             [
              0.5555555555555556,
              "#d8576b"
             ],
             [
              0.6666666666666666,
              "#ed7953"
             ],
             [
              0.7777777777777778,
              "#fb9f3a"
             ],
             [
              0.8888888888888888,
              "#fdca26"
             ],
             [
              1.0,
              "#f0f921"
             ]
            ]
           }
          ],
          "choropleth": [
           {
            "type": "choropleth",
            "colorbar": {
             "outlinewidth": 0,
             "ticks": ""
            }
           }
          ],
          "histogram2d": [
           {
            "type": "histogram2d",
            "colorbar": {
             "outlinewidth": 0,
             "ticks": ""
            },
            "colorscale": [
             [
              0.0,
              "#0d0887"
             ],
             [
              0.1111111111111111,
              "#46039f"
             ],
             [
              0.2222222222222222,
              "#7201a8"
             ],
             [
              0.3333333333333333,
              "#9c179e"
             ],
             [
              0.4444444444444444,
              "#bd3786"
             ],
             [
              0.5555555555555556,
              "#d8576b"
             ],
             [
              0.6666666666666666,
              "#ed7953"
             ],
             [
              0.7777777777777778,
              "#fb9f3a"
             ],
             [
              0.8888888888888888,
              "#fdca26"
             ],
             [
              1.0,
              "#f0f921"
             ]
            ]
           }
          ],
          "heatmap": [
           {
            "type": "heatmap",
            "colorbar": {
             "outlinewidth": 0,
             "ticks": ""
            },
            "colorscale": [
             [
              0.0,
              "#0d0887"
             ],
             [
              0.1111111111111111,
              "#46039f"
             ],
             [
              0.2222222222222222,
              "#7201a8"
             ],
             [
              0.3333333333333333,
              "#9c179e"
             ],
             [
              0.4444444444444444,
              "#bd3786"
             ],
             [
              0.5555555555555556,
              "#d8576b"
             ],
             [
              0.6666666666666666,
              "#ed7953"
             ],
             [
              0.7777777777777778,
              "#fb9f3a"
             ],
             [
              0.8888888888888888,
              "#fdca26"
             ],
             [
              1.0,
              "#f0f921"
             ]
            ]
           }
          ],
          "heatmapgl": [
           {
            "type": "heatmapgl",
            "colorbar": {
             "outlinewidth": 0,
             "ticks": ""
            },
            "colorscale": [
             [
              0.0,
              "#0d0887"
             ],
             [
              0.1111111111111111,
              "#46039f"
             ],
             [
              0.2222222222222222,
              "#7201a8"
             ],
             [
              0.3333333333333333,
              "#9c179e"
             ],
             [
              0.4444444444444444,
              "#bd3786"
             ],
             [
              0.5555555555555556,
              "#d8576b"
             ],
             [
              0.6666666666666666,
              "#ed7953"
             ],
             [
              0.7777777777777778,
              "#fb9f3a"
             ],
             [
              0.8888888888888888,
              "#fdca26"
             ],
             [
              1.0,
              "#f0f921"
             ]
            ]
           }
          ],
          "contourcarpet": [
           {
            "type": "contourcarpet",
            "colorbar": {
             "outlinewidth": 0,
             "ticks": ""
            }
           }
          ],
          "contour": [
           {
            "type": "contour",
            "colorbar": {
             "outlinewidth": 0,
             "ticks": ""
            },
            "colorscale": [
             [
              0.0,
              "#0d0887"
             ],
             [
              0.1111111111111111,
              "#46039f"
             ],
             [
              0.2222222222222222,
              "#7201a8"
             ],
             [
              0.3333333333333333,
              "#9c179e"
             ],
             [
              0.4444444444444444,
              "#bd3786"
             ],
             [
              0.5555555555555556,
              "#d8576b"
             ],
             [
              0.6666666666666666,
              "#ed7953"
             ],
             [
              0.7777777777777778,
              "#fb9f3a"
             ],
             [
              0.8888888888888888,
              "#fdca26"
             ],
             [
              1.0,
              "#f0f921"
             ]
            ]
           }
          ],
          "surface": [
           {
            "type": "surface",
            "colorbar": {
             "outlinewidth": 0,
             "ticks": ""
            },
            "colorscale": [
             [
              0.0,
              "#0d0887"
             ],
             [
              0.1111111111111111,
              "#46039f"
             ],
             [
              0.2222222222222222,
              "#7201a8"
             ],
             [
              0.3333333333333333,
              "#9c179e"
             ],
             [
              0.4444444444444444,
              "#bd3786"
             ],
             [
              0.5555555555555556,
              "#d8576b"
             ],
             [
              0.6666666666666666,
              "#ed7953"
             ],
             [
              0.7777777777777778,
              "#fb9f3a"
             ],
             [
              0.8888888888888888,
              "#fdca26"
             ],
             [
              1.0,
              "#f0f921"
             ]
            ]
           }
          ],
          "mesh3d": [
           {
            "type": "mesh3d",
            "colorbar": {
             "outlinewidth": 0,
             "ticks": ""
            }
           }
          ],
          "scatter": [
           {
            "fillpattern": {
             "fillmode": "overlay",
             "size": 10,
             "solidity": 0.2
            },
            "type": "scatter"
           }
          ],
          "parcoords": [
           {
            "type": "parcoords",
            "line": {
             "colorbar": {
              "outlinewidth": 0,
              "ticks": ""
             }
            }
           }
          ],
          "scatterpolargl": [
           {
            "type": "scatterpolargl",
            "marker": {
             "colorbar": {
              "outlinewidth": 0,
              "ticks": ""
             }
            }
           }
          ],
          "bar": [
           {
            "error_x": {
             "color": "#2a3f5f"
            },
            "error_y": {
             "color": "#2a3f5f"
            },
            "marker": {
             "line": {
              "color": "#E5ECF6",
              "width": 0.5
             },
             "pattern": {
              "fillmode": "overlay",
              "size": 10,
              "solidity": 0.2
             }
            },
            "type": "bar"
           }
          ],
          "scattergeo": [
           {
            "type": "scattergeo",
            "marker": {
             "colorbar": {
              "outlinewidth": 0,
              "ticks": ""
             }
            }
           }
          ],
          "scatterpolar": [
           {
            "type": "scatterpolar",
            "marker": {
             "colorbar": {
              "outlinewidth": 0,
              "ticks": ""
             }
            }
           }
          ],
          "histogram": [
           {
            "marker": {
             "pattern": {
              "fillmode": "overlay",
              "size": 10,
              "solidity": 0.2
             }
            },
            "type": "histogram"
           }
          ],
          "scattergl": [
           {
            "type": "scattergl",
            "marker": {
             "colorbar": {
              "outlinewidth": 0,
              "ticks": ""
             }
            }
           }
          ],
          "scatter3d": [
           {
            "type": "scatter3d",
            "line": {
             "colorbar": {
              "outlinewidth": 0,
              "ticks": ""
             }
            },
            "marker": {
             "colorbar": {
              "outlinewidth": 0,
              "ticks": ""
             }
            }
           }
          ],
          "scattermapbox": [
           {
            "type": "scattermapbox",
            "marker": {
             "colorbar": {
              "outlinewidth": 0,
              "ticks": ""
             }
            }
           }
          ],
          "scatterternary": [
           {
            "type": "scatterternary",
            "marker": {
             "colorbar": {
              "outlinewidth": 0,
              "ticks": ""
             }
            }
           }
          ],
          "scattercarpet": [
           {
            "type": "scattercarpet",
            "marker": {
             "colorbar": {
              "outlinewidth": 0,
              "ticks": ""
             }
            }
           }
          ],
          "carpet": [
           {
            "aaxis": {
             "endlinecolor": "#2a3f5f",
             "gridcolor": "white",
             "linecolor": "white",
             "minorgridcolor": "white",
             "startlinecolor": "#2a3f5f"
            },
            "baxis": {
             "endlinecolor": "#2a3f5f",
             "gridcolor": "white",
             "linecolor": "white",
             "minorgridcolor": "white",
             "startlinecolor": "#2a3f5f"
            },
            "type": "carpet"
           }
          ],
          "table": [
           {
            "cells": {
             "fill": {
              "color": "#EBF0F8"
             },
             "line": {
              "color": "white"
             }
            },
            "header": {
             "fill": {
              "color": "#C8D4E3"
             },
             "line": {
              "color": "white"
             }
            },
            "type": "table"
           }
          ],
          "barpolar": [
           {
            "marker": {
             "line": {
              "color": "#E5ECF6",
              "width": 0.5
             },
             "pattern": {
              "fillmode": "overlay",
              "size": 10,
              "solidity": 0.2
             }
            },
            "type": "barpolar"
           }
          ],
          "pie": [
           {
            "automargin": true,
            "type": "pie"
           }
          ]
         },
         "layout": {
          "autotypenumbers": "strict",
          "colorway": [
           "#636efa",
           "#EF553B",
           "#00cc96",
           "#ab63fa",
           "#FFA15A",
           "#19d3f3",
           "#FF6692",
           "#B6E880",
           "#FF97FF",
           "#FECB52"
          ],
          "font": {
           "color": "#2a3f5f"
          },
          "hovermode": "closest",
          "hoverlabel": {
           "align": "left"
          },
          "paper_bgcolor": "white",
          "plot_bgcolor": "#E5ECF6",
          "polar": {
           "bgcolor": "#E5ECF6",
           "angularaxis": {
            "gridcolor": "white",
            "linecolor": "white",
            "ticks": ""
           },
           "radialaxis": {
            "gridcolor": "white",
            "linecolor": "white",
            "ticks": ""
           }
          },
          "ternary": {
           "bgcolor": "#E5ECF6",
           "aaxis": {
            "gridcolor": "white",
            "linecolor": "white",
            "ticks": ""
           },
           "baxis": {
            "gridcolor": "white",
            "linecolor": "white",
            "ticks": ""
           },
           "caxis": {
            "gridcolor": "white",
            "linecolor": "white",
            "ticks": ""
           }
          },
          "coloraxis": {
           "colorbar": {
            "outlinewidth": 0,
            "ticks": ""
           }
          },
          "colorscale": {
           "sequential": [
            [
             0.0,
             "#0d0887"
            ],
            [
             0.1111111111111111,
             "#46039f"
            ],
            [
             0.2222222222222222,
             "#7201a8"
            ],
            [
             0.3333333333333333,
             "#9c179e"
            ],
            [
             0.4444444444444444,
             "#bd3786"
            ],
            [
             0.5555555555555556,
             "#d8576b"
            ],
            [
             0.6666666666666666,
             "#ed7953"
            ],
            [
             0.7777777777777778,
             "#fb9f3a"
            ],
            [
             0.8888888888888888,
             "#fdca26"
            ],
            [
             1.0,
             "#f0f921"
            ]
           ],
           "sequentialminus": [
            [
             0.0,
             "#0d0887"
            ],
            [
             0.1111111111111111,
             "#46039f"
            ],
            [
             0.2222222222222222,
             "#7201a8"
            ],
            [
             0.3333333333333333,
             "#9c179e"
            ],
            [
             0.4444444444444444,
             "#bd3786"
            ],
            [
             0.5555555555555556,
             "#d8576b"
            ],
            [
             0.6666666666666666,
             "#ed7953"
            ],
            [
             0.7777777777777778,
             "#fb9f3a"
            ],
            [
             0.8888888888888888,
             "#fdca26"
            ],
            [
             1.0,
             "#f0f921"
            ]
           ],
           "diverging": [
            [
             0,
             "#8e0152"
            ],
            [
             0.1,
             "#c51b7d"
            ],
            [
             0.2,
             "#de77ae"
            ],
            [
             0.3,
             "#f1b6da"
            ],
            [
             0.4,
             "#fde0ef"
            ],
            [
             0.5,
             "#f7f7f7"
            ],
            [
             0.6,
             "#e6f5d0"
            ],
            [
             0.7,
             "#b8e186"
            ],
            [
             0.8,
             "#7fbc41"
            ],
            [
             0.9,
             "#4d9221"
            ],
            [
             1,
             "#276419"
            ]
           ]
          },
          "xaxis": {
           "gridcolor": "white",
           "linecolor": "white",
           "ticks": "",
           "title": {
            "standoff": 15
           },
           "zerolinecolor": "white",
           "automargin": true,
           "zerolinewidth": 2
          },
          "yaxis": {
           "gridcolor": "white",
           "linecolor": "white",
           "ticks": "",
           "title": {
            "standoff": 15
           },
           "zerolinecolor": "white",
           "automargin": true,
           "zerolinewidth": 2
          },
          "scene": {
           "xaxis": {
            "backgroundcolor": "#E5ECF6",
            "gridcolor": "white",
            "linecolor": "white",
            "showbackground": true,
            "ticks": "",
            "zerolinecolor": "white",
            "gridwidth": 2
           },
           "yaxis": {
            "backgroundcolor": "#E5ECF6",
            "gridcolor": "white",
            "linecolor": "white",
            "showbackground": true,
            "ticks": "",
            "zerolinecolor": "white",
            "gridwidth": 2
           },
           "zaxis": {
            "backgroundcolor": "#E5ECF6",
            "gridcolor": "white",
            "linecolor": "white",
            "showbackground": true,
            "ticks": "",
            "zerolinecolor": "white",
            "gridwidth": 2
           }
          },
          "shapedefaults": {
           "line": {
            "color": "#2a3f5f"
           }
          },
          "annotationdefaults": {
           "arrowcolor": "#2a3f5f",
           "arrowhead": 0,
           "arrowwidth": 1
          },
          "geo": {
           "bgcolor": "white",
           "landcolor": "#E5ECF6",
           "subunitcolor": "white",
           "showland": true,
           "showlakes": true,
           "lakecolor": "white"
          },
          "title": {
           "x": 0.05
          },
          "mapbox": {
           "style": "light"
          }
         }
        },
        "xaxis": {
         "rangeslider": {
          "visible": false
         }
        }
       },
       "config": {
        "plotlyServerURL": "https://plot.ly"
       }
      },
      "text/html": "<div>                            <div id=\"ffaa0509-0818-4c1d-b07b-4cf7547cd48d\" class=\"plotly-graph-div\" style=\"height:525px; width:100%;\"></div>            <script type=\"text/javascript\">                require([\"plotly\"], function(Plotly) {                    window.PLOTLYENV=window.PLOTLYENV || {};                                    if (document.getElementById(\"ffaa0509-0818-4c1d-b07b-4cf7547cd48d\")) {                    Plotly.newPlot(                        \"ffaa0509-0818-4c1d-b07b-4cf7547cd48d\",                        [{\"close\":[47067.99,45510.34,46283.49,45811.0,46407.35,46580.51,45497.55,43170.47,43444.19,42252.01,42753.97,42158.85,39530.45,40074.94,41147.79,39942.38,40551.9,40378.71,39678.12,40801.13,41493.18,41358.19,40480.01,39709.18,39441.6,39450.13,40426.08,38112.65,39235.72,39742.07,38596.11,37630.8,38468.35,38525.16,37728.95,39690.0,36552.97,36013.77,35472.39,34038.4,30076.31,31017.1,29103.94,29029.75,29287.05,30086.74,31328.89,29874.01,30444.93,28715.32,30319.23,29201.01,29445.06,30293.94,29109.15,29654.58,29542.15,29201.35,28629.8,29031.33,29468.1,31734.22,31801.04,29805.83,30452.62,29700.21,29864.04,29919.21,31373.1,31125.33,30204.77,30109.93,29091.88,28424.7,26574.53,22487.41,22136.41,22583.72,20401.31,20468.81,18970.79,20574.0,20573.89,20723.52,19987.99,21110.13,21237.69,21491.19,21038.07,20742.56,20281.29,20123.01,19942.21,19279.8,19252.81,19315.83,20236.71,20175.83,20564.51,21624.98,21594.75,21591.83,20862.47,19963.61,19328.75,20234.87,20588.84,20830.04,21195.6,20798.16,22432.58,23396.62,23223.3,23152.19,22684.83,22451.07,22579.68,21310.9,21254.67,22952.45,23842.93,23773.75,23643.51,23293.32,23268.01,22987.79,22818.37,22622.98,23312.42,22954.21,23174.39,23810.0,23149.95,23954.05,23934.39,24403.68,24441.38,24305.24,24094.82,23854.74,23342.66,23191.2,20834.39,21140.07,21515.61,21399.83,21529.12,21368.08,21559.04,20241.05,20037.6,19555.61,20285.73,19811.66,20050.02,20131.46,19951.86,19831.9,20000.3,19796.84,18790.61,19292.84,19319.77,21360.11,21648.34,21826.87,22395.74,20173.57,20226.71,19701.88,19803.3,20113.62,19416.18,19537.02,18875.0,18461.36,19401.63,19289.91,18920.5,18807.38,19227.82,19079.13,19412.82,19591.51,19422.61,19310.95,19056.8,19629.08,20337.82,20158.26,19960.67,19530.09,19417.96,19439.02,19131.87,19060.0,19155.53,19375.13,19176.93,19069.39,19262.98,19549.86,19327.44,19123.97,19041.92,19164.37,19204.35,19570.4,19329.72,20080.07,20771.59,20295.11,20591.84,20809.67,20627.48,20490.74,20483.62,20151.84,20207.82,21148.52,21299.37,20905.58,20591.13,18547.23,15922.81,17601.15,17070.31,16812.08,16329.85,16619.46,16900.57,16662.76,16692.56,16700.45,16700.68,16280.23],\"high\":[47700.22,47600.0,46720.09,47213.0,47444.11,46890.71,47200.0,45507.14,43900.99,43970.62,42800.0,43410.3,42414.71,40699.0,41561.31,41500.0,40870.36,40709.35,40595.67,41116.73,41760.0,42199.0,42976.0,40795.06,39980.0,39940.0,40616.0,40797.31,39474.72,40372.63,39925.25,38795.38,38675.0,39167.34,38651.51,40023.77,39845.51,36675.63,36146.3,35514.22,34243.15,32658.99,32162.59,30243.0,31083.37,30343.27,31460.0,31328.9,30788.37,30709.99,30545.18,30777.33,29656.18,30487.99,30670.51,29845.86,30223.74,29886.64,29397.66,29266.0,29587.78,32222.0,32399.0,31982.97,30689.0,30699.0,29988.88,30189.0,31765.64,31589.6,31327.22,30700.0,30382.8,29440.41,28544.96,26895.84,23362.88,22800.0,22995.73,21365.43,20792.06,20815.95,21090.0,21723.0,20900.0,21233.0,21558.41,21614.5,21888.0,21539.85,21212.1,20432.31,20179.08,20918.35,19467.39,19647.63,20354.01,20750.0,20675.22,21838.1,22527.37,21980.0,21607.65,20868.48,20059.42,20366.61,20900.0,21200.0,21588.94,21684.54,22777.63,23800.0,24276.74,23442.77,23756.49,23000.77,23014.64,22666.0,21347.82,23112.63,24199.72,24442.66,24668.0,24194.82,23509.68,23459.89,23647.68,23223.32,23472.86,23354.36,23402.0,24245.0,23933.25,24226.0,24918.54,24456.5,24888.0,25047.56,25211.32,24247.49,24446.71,23600.0,23208.67,21382.85,21800.0,21548.71,21684.87,21900.0,21819.88,21886.77,20402.93,20171.18,20433.62,20576.25,20490.0,20208.37,20441.26,20055.93,20029.23,20057.27,20180.0,19464.06,19458.25,21597.22,21810.8,21860.0,22488.0,22799.0,20541.48,20330.24,19890.0,20189.0,20117.26,19686.2,19634.62,19956.0,19550.17,19500.0,19316.14,19180.21,19318.96,20385.86,19790.0,19645.52,20185.0,19484.0,19395.91,19719.1,20475.0,20365.6,20456.6,20068.82,19627.38,19558.0,19525.0,19268.09,19238.31,19513.79,19951.87,19227.68,19425.84,19676.96,19706.66,19360.16,19347.82,19250.0,19257.0,19695.0,19601.15,20415.87,21020.0,20872.21,20750.0,21085.0,20931.21,20845.92,20700.0,20800.0,20393.32,21302.05,21480.65,21365.27,21069.77,20700.88,18587.76,18199.0,17695.0,17119.1,16954.28,17190.0,17134.69,17015.92,16751.0,17011.0,16822.41,16753.33],\"low\":[46445.42,45200.0,44200.0,45620.0,45530.92,45118.0,45353.81,43121.0,42727.35,42107.14,42125.48,41868.0,39200.0,39254.63,39588.54,39551.94,39766.4,39991.55,39546.17,38536.51,40571.0,40820.0,39751.0,39177.0,39285.0,38929.62,38200.0,37702.26,37881.31,38881.43,38175.0,37578.2,37386.38,38052.0,37517.8,37670.0,35571.9,35258.0,34785.0,33713.95,30033.33,29730.4,27785.0,26700.0,28751.67,28630.0,29480.0,29087.04,29450.38,28654.47,28691.38,28730.0,28947.28,29255.11,28866.35,28669.0,29294.21,28019.56,28282.9,28450.0,28839.21,29299.62,31200.01,29301.0,29594.55,29282.36,29485.0,29531.42,29890.23,29218.96,29843.88,29944.1,28850.0,28099.99,26560.0,21925.77,20846.0,20111.62,20232.0,20246.66,17622.0,17960.41,19637.03,20348.4,19770.51,19890.07,20736.72,20906.62,20964.73,20510.0,20202.01,19854.92,18626.0,18975.0,18977.01,18781.0,19055.31,19304.4,19761.25,20251.68,21189.26,21322.12,20655.0,19875.23,19240.0,18910.94,19616.07,20382.29,20478.61,20750.01,20762.45,21579.54,22906.19,22341.46,22500.0,21934.57,22257.15,21250.0,20706.5,21042.53,22582.13,23414.03,23502.25,23227.31,22850.0,22654.37,22681.22,22400.0,22586.95,22909.52,22844.62,23154.25,22865.0,22664.69,23852.13,23583.0,24291.22,24144.0,23773.22,23671.22,23180.4,23111.04,20783.57,20761.9,21069.11,20890.18,20890.14,21145.0,21310.15,20107.9,19800.0,19520.0,19550.79,19540.0,19797.94,19565.66,19755.29,19652.72,19583.1,19633.83,18649.51,18510.77,19012.0,19291.75,21111.13,21350.0,21538.51,19860.0,19617.62,19497.0,19320.01,19748.08,19335.62,18232.56,18711.87,18125.98,18356.39,18531.42,18805.34,18629.2,18680.72,18816.32,18471.28,18843.01,19155.36,19159.42,18920.35,18959.68,19490.6,19730.0,19853.0,19320.0,19237.14,19316.04,19020.25,18860.0,18965.88,18190.0,19070.37,18975.18,19063.74,19152.03,19091.0,19065.97,18900.0,18650.0,19112.72,19070.11,19157.0,19237.0,20050.41,20200.0,20000.09,20554.01,20515.0,20237.95,20330.74,20048.04,20031.24,20180.96,21080.65,20886.13,20384.89,17166.83,15588.0,15754.26,16361.6,16631.39,16229.0,15815.21,16527.72,16378.61,16410.74,16546.04,16553.53,16180.0],\"open\":[47434.79,47067.99,45510.35,46283.49,45810.99,46407.36,46580.5,45497.54,43170.47,43444.2,42252.02,42753.96,42158.85,39530.45,40074.95,41147.78,39942.37,40551.9,40378.7,39678.11,40801.13,41493.19,41358.19,40480.01,39709.19,39441.61,39450.12,40426.08,38112.64,39235.72,39742.06,38596.11,37630.8,38468.35,38525.16,37728.95,39690.0,36552.97,36013.77,35472.4,34038.39,30074.23,31017.11,29103.94,29029.74,29287.05,30086.74,31328.89,29874.01,30444.93,28715.33,30319.22,29201.01,29445.07,30293.93,29109.14,29654.58,29542.14,29201.35,28629.81,29031.33,29468.1,31734.23,31801.05,29805.84,30452.63,29700.21,29864.03,29919.2,31373.1,31125.32,30204.77,30109.93,29091.87,28424.71,26574.53,22485.27,22136.42,22583.72,20400.6,20468.81,18970.79,20574.0,20573.9,20723.51,19988.0,21110.12,21237.68,21491.18,21038.08,20742.57,20281.28,20123.0,19942.21,19279.8,19252.82,19315.83,20236.71,20175.84,20564.51,21624.99,21594.75,21592.15,20861.11,19963.61,19331.28,20234.87,20588.84,20830.04,21195.6,20799.58,22432.58,23398.48,23223.3,23152.19,22684.83,22448.58,22577.13,21310.9,21254.67,22954.31,23845.25,23777.28,23644.64,23296.36,23266.9,22985.93,22816.91,22622.41,23313.56,22954.21,23174.39,23810.98,23151.32,23954.05,23933.09,24401.7,24443.06,24305.25,24093.04,23856.15,23342.66,23191.45,20834.39,21140.07,21516.7,21400.75,21529.11,21368.05,21559.04,20239.14,20037.6,19555.61,20287.2,19813.03,20048.44,20132.64,19950.98,19832.45,20000.3,19795.34,18790.61,19292.85,19320.54,21361.62,21647.21,21826.87,22395.44,20173.62,20227.17,19701.88,19803.3,20112.61,19417.45,19537.02,18874.31,18461.36,19401.63,19288.57,18921.99,18809.13,19226.68,19078.1,19412.82,19590.54,19422.61,19312.24,19057.74,19629.08,20337.82,20158.26,19960.67,19530.09,19416.52,19439.96,19131.87,19060.0,19155.1,19375.58,19176.93,19068.4,19262.98,19548.48,19327.44,19123.35,19041.92,19164.37,19204.29,19570.4,19330.6,20079.02,20771.61,20295.11,20591.84,20809.68,20627.48,20490.74,20482.81,20151.84,20207.12,21148.52,21299.37,20905.58,20590.67,18545.38,15922.68,17602.45,17069.98,16813.16,16331.78,16617.72,16900.57,16661.61,16692.56,16699.43,16700.68],\"x\":[\"2022-03-30T07:00:00\",\"2022-03-31T07:00:00\",\"2022-04-01T07:00:00\",\"2022-04-02T07:00:00\",\"2022-04-03T07:00:00\",\"2022-04-04T07:00:00\",\"2022-04-05T07:00:00\",\"2022-04-06T07:00:00\",\"2022-04-07T07:00:00\",\"2022-04-08T07:00:00\",\"2022-04-09T07:00:00\",\"2022-04-10T07:00:00\",\"2022-04-11T07:00:00\",\"2022-04-12T07:00:00\",\"2022-04-13T07:00:00\",\"2022-04-14T07:00:00\",\"2022-04-15T07:00:00\",\"2022-04-16T07:00:00\",\"2022-04-17T07:00:00\",\"2022-04-18T07:00:00\",\"2022-04-19T07:00:00\",\"2022-04-20T07:00:00\",\"2022-04-21T07:00:00\",\"2022-04-22T07:00:00\",\"2022-04-23T07:00:00\",\"2022-04-24T07:00:00\",\"2022-04-25T07:00:00\",\"2022-04-26T07:00:00\",\"2022-04-27T07:00:00\",\"2022-04-28T07:00:00\",\"2022-04-29T07:00:00\",\"2022-04-30T07:00:00\",\"2022-05-01T07:00:00\",\"2022-05-02T07:00:00\",\"2022-05-03T07:00:00\",\"2022-05-04T07:00:00\",\"2022-05-05T07:00:00\",\"2022-05-06T07:00:00\",\"2022-05-07T07:00:00\",\"2022-05-08T07:00:00\",\"2022-05-09T07:00:00\",\"2022-05-10T07:00:00\",\"2022-05-11T07:00:00\",\"2022-05-12T07:00:00\",\"2022-05-13T07:00:00\",\"2022-05-14T07:00:00\",\"2022-05-15T07:00:00\",\"2022-05-16T07:00:00\",\"2022-05-17T07:00:00\",\"2022-05-18T07:00:00\",\"2022-05-19T07:00:00\",\"2022-05-20T07:00:00\",\"2022-05-21T07:00:00\",\"2022-05-22T07:00:00\",\"2022-05-23T07:00:00\",\"2022-05-24T07:00:00\",\"2022-05-25T07:00:00\",\"2022-05-26T07:00:00\",\"2022-05-27T07:00:00\",\"2022-05-28T07:00:00\",\"2022-05-29T07:00:00\",\"2022-05-30T07:00:00\",\"2022-05-31T07:00:00\",\"2022-06-01T07:00:00\",\"2022-06-02T07:00:00\",\"2022-06-03T07:00:00\",\"2022-06-04T07:00:00\",\"2022-06-05T07:00:00\",\"2022-06-06T07:00:00\",\"2022-06-07T07:00:00\",\"2022-06-08T07:00:00\",\"2022-06-09T07:00:00\",\"2022-06-10T07:00:00\",\"2022-06-11T07:00:00\",\"2022-06-12T07:00:00\",\"2022-06-13T07:00:00\",\"2022-06-14T07:00:00\",\"2022-06-15T07:00:00\",\"2022-06-16T07:00:00\",\"2022-06-17T07:00:00\",\"2022-06-18T07:00:00\",\"2022-06-19T07:00:00\",\"2022-06-20T07:00:00\",\"2022-06-21T07:00:00\",\"2022-06-22T07:00:00\",\"2022-06-23T07:00:00\",\"2022-06-24T07:00:00\",\"2022-06-25T07:00:00\",\"2022-06-26T07:00:00\",\"2022-06-27T07:00:00\",\"2022-06-28T07:00:00\",\"2022-06-29T07:00:00\",\"2022-06-30T07:00:00\",\"2022-07-01T07:00:00\",\"2022-07-02T07:00:00\",\"2022-07-03T07:00:00\",\"2022-07-04T07:00:00\",\"2022-07-05T07:00:00\",\"2022-07-06T07:00:00\",\"2022-07-07T07:00:00\",\"2022-07-08T07:00:00\",\"2022-07-09T07:00:00\",\"2022-07-10T07:00:00\",\"2022-07-11T07:00:00\",\"2022-07-12T07:00:00\",\"2022-07-13T07:00:00\",\"2022-07-14T07:00:00\",\"2022-07-15T07:00:00\",\"2022-07-16T07:00:00\",\"2022-07-17T07:00:00\",\"2022-07-18T07:00:00\",\"2022-07-19T07:00:00\",\"2022-07-20T07:00:00\",\"2022-07-21T07:00:00\",\"2022-07-22T07:00:00\",\"2022-07-23T07:00:00\",\"2022-07-24T07:00:00\",\"2022-07-25T07:00:00\",\"2022-07-26T07:00:00\",\"2022-07-27T07:00:00\",\"2022-07-28T07:00:00\",\"2022-07-29T07:00:00\",\"2022-07-30T07:00:00\",\"2022-07-31T07:00:00\",\"2022-08-01T07:00:00\",\"2022-08-02T07:00:00\",\"2022-08-03T07:00:00\",\"2022-08-04T07:00:00\",\"2022-08-05T07:00:00\",\"2022-08-06T07:00:00\",\"2022-08-07T07:00:00\",\"2022-08-08T07:00:00\",\"2022-08-09T07:00:00\",\"2022-08-10T07:00:00\",\"2022-08-11T07:00:00\",\"2022-08-12T07:00:00\",\"2022-08-13T07:00:00\",\"2022-08-14T07:00:00\",\"2022-08-15T07:00:00\",\"2022-08-16T07:00:00\",\"2022-08-17T07:00:00\",\"2022-08-18T07:00:00\",\"2022-08-19T07:00:00\",\"2022-08-20T07:00:00\",\"2022-08-21T07:00:00\",\"2022-08-22T07:00:00\",\"2022-08-23T07:00:00\",\"2022-08-24T07:00:00\",\"2022-08-25T07:00:00\",\"2022-08-26T07:00:00\",\"2022-08-27T07:00:00\",\"2022-08-28T07:00:00\",\"2022-08-29T07:00:00\",\"2022-08-30T07:00:00\",\"2022-08-31T07:00:00\",\"2022-09-01T07:00:00\",\"2022-09-02T07:00:00\",\"2022-09-03T07:00:00\",\"2022-09-04T07:00:00\",\"2022-09-05T07:00:00\",\"2022-09-06T07:00:00\",\"2022-09-07T07:00:00\",\"2022-09-08T07:00:00\",\"2022-09-09T07:00:00\",\"2022-09-10T07:00:00\",\"2022-09-11T07:00:00\",\"2022-09-12T07:00:00\",\"2022-09-13T07:00:00\",\"2022-09-14T07:00:00\",\"2022-09-15T07:00:00\",\"2022-09-16T07:00:00\",\"2022-09-17T07:00:00\",\"2022-09-18T07:00:00\",\"2022-09-19T07:00:00\",\"2022-09-20T07:00:00\",\"2022-09-21T07:00:00\",\"2022-09-22T07:00:00\",\"2022-09-23T07:00:00\",\"2022-09-24T07:00:00\",\"2022-09-25T07:00:00\",\"2022-09-26T07:00:00\",\"2022-09-27T07:00:00\",\"2022-09-28T07:00:00\",\"2022-09-29T07:00:00\",\"2022-09-30T07:00:00\",\"2022-10-01T07:00:00\",\"2022-10-02T07:00:00\",\"2022-10-03T07:00:00\",\"2022-10-04T07:00:00\",\"2022-10-05T07:00:00\",\"2022-10-06T07:00:00\",\"2022-10-07T07:00:00\",\"2022-10-08T07:00:00\",\"2022-10-09T07:00:00\",\"2022-10-10T07:00:00\",\"2022-10-11T07:00:00\",\"2022-10-12T07:00:00\",\"2022-10-13T07:00:00\",\"2022-10-14T07:00:00\",\"2022-10-15T07:00:00\",\"2022-10-16T07:00:00\",\"2022-10-17T07:00:00\",\"2022-10-18T07:00:00\",\"2022-10-19T07:00:00\",\"2022-10-20T07:00:00\",\"2022-10-21T07:00:00\",\"2022-10-22T07:00:00\",\"2022-10-23T07:00:00\",\"2022-10-24T07:00:00\",\"2022-10-25T07:00:00\",\"2022-10-26T07:00:00\",\"2022-10-27T07:00:00\",\"2022-10-28T07:00:00\",\"2022-10-29T07:00:00\",\"2022-10-30T07:00:00\",\"2022-10-31T07:00:00\",\"2022-11-01T07:00:00\",\"2022-11-02T07:00:00\",\"2022-11-03T07:00:00\",\"2022-11-04T07:00:00\",\"2022-11-05T07:00:00\",\"2022-11-06T07:00:00\",\"2022-11-07T07:00:00\",\"2022-11-08T07:00:00\",\"2022-11-09T07:00:00\",\"2022-11-10T07:00:00\",\"2022-11-11T07:00:00\",\"2022-11-12T07:00:00\",\"2022-11-13T07:00:00\",\"2022-11-14T07:00:00\",\"2022-11-15T07:00:00\",\"2022-11-16T07:00:00\",\"2022-11-17T07:00:00\",\"2022-11-18T07:00:00\",\"2022-11-19T07:00:00\",\"2022-11-20T07:00:00\"],\"type\":\"candlestick\"}],                        {\"template\":{\"data\":{\"histogram2dcontour\":[{\"type\":\"histogram2dcontour\",\"colorbar\":{\"outlinewidth\":0,\"ticks\":\"\"},\"colorscale\":[[0.0,\"#0d0887\"],[0.1111111111111111,\"#46039f\"],[0.2222222222222222,\"#7201a8\"],[0.3333333333333333,\"#9c179e\"],[0.4444444444444444,\"#bd3786\"],[0.5555555555555556,\"#d8576b\"],[0.6666666666666666,\"#ed7953\"],[0.7777777777777778,\"#fb9f3a\"],[0.8888888888888888,\"#fdca26\"],[1.0,\"#f0f921\"]]}],\"choropleth\":[{\"type\":\"choropleth\",\"colorbar\":{\"outlinewidth\":0,\"ticks\":\"\"}}],\"histogram2d\":[{\"type\":\"histogram2d\",\"colorbar\":{\"outlinewidth\":0,\"ticks\":\"\"},\"colorscale\":[[0.0,\"#0d0887\"],[0.1111111111111111,\"#46039f\"],[0.2222222222222222,\"#7201a8\"],[0.3333333333333333,\"#9c179e\"],[0.4444444444444444,\"#bd3786\"],[0.5555555555555556,\"#d8576b\"],[0.6666666666666666,\"#ed7953\"],[0.7777777777777778,\"#fb9f3a\"],[0.8888888888888888,\"#fdca26\"],[1.0,\"#f0f921\"]]}],\"heatmap\":[{\"type\":\"heatmap\",\"colorbar\":{\"outlinewidth\":0,\"ticks\":\"\"},\"colorscale\":[[0.0,\"#0d0887\"],[0.1111111111111111,\"#46039f\"],[0.2222222222222222,\"#7201a8\"],[0.3333333333333333,\"#9c179e\"],[0.4444444444444444,\"#bd3786\"],[0.5555555555555556,\"#d8576b\"],[0.6666666666666666,\"#ed7953\"],[0.7777777777777778,\"#fb9f3a\"],[0.8888888888888888,\"#fdca26\"],[1.0,\"#f0f921\"]]}],\"heatmapgl\":[{\"type\":\"heatmapgl\",\"colorbar\":{\"outlinewidth\":0,\"ticks\":\"\"},\"colorscale\":[[0.0,\"#0d0887\"],[0.1111111111111111,\"#46039f\"],[0.2222222222222222,\"#7201a8\"],[0.3333333333333333,\"#9c179e\"],[0.4444444444444444,\"#bd3786\"],[0.5555555555555556,\"#d8576b\"],[0.6666666666666666,\"#ed7953\"],[0.7777777777777778,\"#fb9f3a\"],[0.8888888888888888,\"#fdca26\"],[1.0,\"#f0f921\"]]}],\"contourcarpet\":[{\"type\":\"contourcarpet\",\"colorbar\":{\"outlinewidth\":0,\"ticks\":\"\"}}],\"contour\":[{\"type\":\"contour\",\"colorbar\":{\"outlinewidth\":0,\"ticks\":\"\"},\"colorscale\":[[0.0,\"#0d0887\"],[0.1111111111111111,\"#46039f\"],[0.2222222222222222,\"#7201a8\"],[0.3333333333333333,\"#9c179e\"],[0.4444444444444444,\"#bd3786\"],[0.5555555555555556,\"#d8576b\"],[0.6666666666666666,\"#ed7953\"],[0.7777777777777778,\"#fb9f3a\"],[0.8888888888888888,\"#fdca26\"],[1.0,\"#f0f921\"]]}],\"surface\":[{\"type\":\"surface\",\"colorbar\":{\"outlinewidth\":0,\"ticks\":\"\"},\"colorscale\":[[0.0,\"#0d0887\"],[0.1111111111111111,\"#46039f\"],[0.2222222222222222,\"#7201a8\"],[0.3333333333333333,\"#9c179e\"],[0.4444444444444444,\"#bd3786\"],[0.5555555555555556,\"#d8576b\"],[0.6666666666666666,\"#ed7953\"],[0.7777777777777778,\"#fb9f3a\"],[0.8888888888888888,\"#fdca26\"],[1.0,\"#f0f921\"]]}],\"mesh3d\":[{\"type\":\"mesh3d\",\"colorbar\":{\"outlinewidth\":0,\"ticks\":\"\"}}],\"scatter\":[{\"fillpattern\":{\"fillmode\":\"overlay\",\"size\":10,\"solidity\":0.2},\"type\":\"scatter\"}],\"parcoords\":[{\"type\":\"parcoords\",\"line\":{\"colorbar\":{\"outlinewidth\":0,\"ticks\":\"\"}}}],\"scatterpolargl\":[{\"type\":\"scatterpolargl\",\"marker\":{\"colorbar\":{\"outlinewidth\":0,\"ticks\":\"\"}}}],\"bar\":[{\"error_x\":{\"color\":\"#2a3f5f\"},\"error_y\":{\"color\":\"#2a3f5f\"},\"marker\":{\"line\":{\"color\":\"#E5ECF6\",\"width\":0.5},\"pattern\":{\"fillmode\":\"overlay\",\"size\":10,\"solidity\":0.2}},\"type\":\"bar\"}],\"scattergeo\":[{\"type\":\"scattergeo\",\"marker\":{\"colorbar\":{\"outlinewidth\":0,\"ticks\":\"\"}}}],\"scatterpolar\":[{\"type\":\"scatterpolar\",\"marker\":{\"colorbar\":{\"outlinewidth\":0,\"ticks\":\"\"}}}],\"histogram\":[{\"marker\":{\"pattern\":{\"fillmode\":\"overlay\",\"size\":10,\"solidity\":0.2}},\"type\":\"histogram\"}],\"scattergl\":[{\"type\":\"scattergl\",\"marker\":{\"colorbar\":{\"outlinewidth\":0,\"ticks\":\"\"}}}],\"scatter3d\":[{\"type\":\"scatter3d\",\"line\":{\"colorbar\":{\"outlinewidth\":0,\"ticks\":\"\"}},\"marker\":{\"colorbar\":{\"outlinewidth\":0,\"ticks\":\"\"}}}],\"scattermapbox\":[{\"type\":\"scattermapbox\",\"marker\":{\"colorbar\":{\"outlinewidth\":0,\"ticks\":\"\"}}}],\"scatterternary\":[{\"type\":\"scatterternary\",\"marker\":{\"colorbar\":{\"outlinewidth\":0,\"ticks\":\"\"}}}],\"scattercarpet\":[{\"type\":\"scattercarpet\",\"marker\":{\"colorbar\":{\"outlinewidth\":0,\"ticks\":\"\"}}}],\"carpet\":[{\"aaxis\":{\"endlinecolor\":\"#2a3f5f\",\"gridcolor\":\"white\",\"linecolor\":\"white\",\"minorgridcolor\":\"white\",\"startlinecolor\":\"#2a3f5f\"},\"baxis\":{\"endlinecolor\":\"#2a3f5f\",\"gridcolor\":\"white\",\"linecolor\":\"white\",\"minorgridcolor\":\"white\",\"startlinecolor\":\"#2a3f5f\"},\"type\":\"carpet\"}],\"table\":[{\"cells\":{\"fill\":{\"color\":\"#EBF0F8\"},\"line\":{\"color\":\"white\"}},\"header\":{\"fill\":{\"color\":\"#C8D4E3\"},\"line\":{\"color\":\"white\"}},\"type\":\"table\"}],\"barpolar\":[{\"marker\":{\"line\":{\"color\":\"#E5ECF6\",\"width\":0.5},\"pattern\":{\"fillmode\":\"overlay\",\"size\":10,\"solidity\":0.2}},\"type\":\"barpolar\"}],\"pie\":[{\"automargin\":true,\"type\":\"pie\"}]},\"layout\":{\"autotypenumbers\":\"strict\",\"colorway\":[\"#636efa\",\"#EF553B\",\"#00cc96\",\"#ab63fa\",\"#FFA15A\",\"#19d3f3\",\"#FF6692\",\"#B6E880\",\"#FF97FF\",\"#FECB52\"],\"font\":{\"color\":\"#2a3f5f\"},\"hovermode\":\"closest\",\"hoverlabel\":{\"align\":\"left\"},\"paper_bgcolor\":\"white\",\"plot_bgcolor\":\"#E5ECF6\",\"polar\":{\"bgcolor\":\"#E5ECF6\",\"angularaxis\":{\"gridcolor\":\"white\",\"linecolor\":\"white\",\"ticks\":\"\"},\"radialaxis\":{\"gridcolor\":\"white\",\"linecolor\":\"white\",\"ticks\":\"\"}},\"ternary\":{\"bgcolor\":\"#E5ECF6\",\"aaxis\":{\"gridcolor\":\"white\",\"linecolor\":\"white\",\"ticks\":\"\"},\"baxis\":{\"gridcolor\":\"white\",\"linecolor\":\"white\",\"ticks\":\"\"},\"caxis\":{\"gridcolor\":\"white\",\"linecolor\":\"white\",\"ticks\":\"\"}},\"coloraxis\":{\"colorbar\":{\"outlinewidth\":0,\"ticks\":\"\"}},\"colorscale\":{\"sequential\":[[0.0,\"#0d0887\"],[0.1111111111111111,\"#46039f\"],[0.2222222222222222,\"#7201a8\"],[0.3333333333333333,\"#9c179e\"],[0.4444444444444444,\"#bd3786\"],[0.5555555555555556,\"#d8576b\"],[0.6666666666666666,\"#ed7953\"],[0.7777777777777778,\"#fb9f3a\"],[0.8888888888888888,\"#fdca26\"],[1.0,\"#f0f921\"]],\"sequentialminus\":[[0.0,\"#0d0887\"],[0.1111111111111111,\"#46039f\"],[0.2222222222222222,\"#7201a8\"],[0.3333333333333333,\"#9c179e\"],[0.4444444444444444,\"#bd3786\"],[0.5555555555555556,\"#d8576b\"],[0.6666666666666666,\"#ed7953\"],[0.7777777777777778,\"#fb9f3a\"],[0.8888888888888888,\"#fdca26\"],[1.0,\"#f0f921\"]],\"diverging\":[[0,\"#8e0152\"],[0.1,\"#c51b7d\"],[0.2,\"#de77ae\"],[0.3,\"#f1b6da\"],[0.4,\"#fde0ef\"],[0.5,\"#f7f7f7\"],[0.6,\"#e6f5d0\"],[0.7,\"#b8e186\"],[0.8,\"#7fbc41\"],[0.9,\"#4d9221\"],[1,\"#276419\"]]},\"xaxis\":{\"gridcolor\":\"white\",\"linecolor\":\"white\",\"ticks\":\"\",\"title\":{\"standoff\":15},\"zerolinecolor\":\"white\",\"automargin\":true,\"zerolinewidth\":2},\"yaxis\":{\"gridcolor\":\"white\",\"linecolor\":\"white\",\"ticks\":\"\",\"title\":{\"standoff\":15},\"zerolinecolor\":\"white\",\"automargin\":true,\"zerolinewidth\":2},\"scene\":{\"xaxis\":{\"backgroundcolor\":\"#E5ECF6\",\"gridcolor\":\"white\",\"linecolor\":\"white\",\"showbackground\":true,\"ticks\":\"\",\"zerolinecolor\":\"white\",\"gridwidth\":2},\"yaxis\":{\"backgroundcolor\":\"#E5ECF6\",\"gridcolor\":\"white\",\"linecolor\":\"white\",\"showbackground\":true,\"ticks\":\"\",\"zerolinecolor\":\"white\",\"gridwidth\":2},\"zaxis\":{\"backgroundcolor\":\"#E5ECF6\",\"gridcolor\":\"white\",\"linecolor\":\"white\",\"showbackground\":true,\"ticks\":\"\",\"zerolinecolor\":\"white\",\"gridwidth\":2}},\"shapedefaults\":{\"line\":{\"color\":\"#2a3f5f\"}},\"annotationdefaults\":{\"arrowcolor\":\"#2a3f5f\",\"arrowhead\":0,\"arrowwidth\":1},\"geo\":{\"bgcolor\":\"white\",\"landcolor\":\"#E5ECF6\",\"subunitcolor\":\"white\",\"showland\":true,\"showlakes\":true,\"lakecolor\":\"white\"},\"title\":{\"x\":0.05},\"mapbox\":{\"style\":\"light\"}}},\"xaxis\":{\"rangeslider\":{\"visible\":false}}},                        {\"responsive\": true}                    ).then(function(){\n                            \nvar gd = document.getElementById('ffaa0509-0818-4c1d-b07b-4cf7547cd48d');\nvar x = new MutationObserver(function (mutations, observer) {{\n        var display = window.getComputedStyle(gd).display;\n        if (!display || display === 'none') {{\n            console.log([gd, 'removed!']);\n            Plotly.purge(gd);\n            observer.disconnect();\n        }}\n}});\n\n// Listen for the removal of the full notebook cells\nvar notebookContainer = gd.closest('#notebook-container');\nif (notebookContainer) {{\n    x.observe(notebookContainer, {childList: true});\n}}\n\n// Listen for the clearing of the current output cell\nvar outputEl = gd.closest('.output');\nif (outputEl) {{\n    x.observe(outputEl, {childList: true});\n}}\n\n                        })                };                });            </script>        </div>"
     },
     "metadata": {},
     "output_type": "display_data"
    }
   ],
   "source": [
    "import plotly.graph_objects as go\n",
    "fig = go.Figure(data=[go.Candlestick(x=df['time'],\n",
    "                                      open=df['open'],\n",
    "                                      high=df['high'],\n",
    "                                      low=df['low'],\n",
    "                                      close=df['close'])])\n",
    "fig.update_layout(xaxis_rangeslider_visible=False)\n",
    "# fig.add_trace(go.Scatter(x=[buy[1] for buy in buys if buy[0] == 'BTC'],\n",
    "#                          y=[buy[2] for buy in buys if buy[0] == 'BTC'],\n",
    "#                          type='scatter',\n",
    "#                          mode='markers',\n",
    "#                          marker=dict(symbol='x',color='blue'),\n",
    "#                          name='buys'))\n",
    "#\n",
    "# fig.add_trace(go.Scatter(x=[sell[1] for sell in sells if sell[0] == 'BTC'],\n",
    "#                          y=[sell[2] for sell in sells if sell[0] == 'BTC'],\n",
    "#                          type='scatter',\n",
    "#                          mode='markers',\n",
    "#                          marker=dict(symbol='x',color='orange'),\n",
    "#                          name='sells'))\n",
    "\n",
    "# fig.update_xaxes(range = [df['open'].iloc[0],df['open'].iloc[-1]])\n",
    "# fig.update_yaxes(range = [min(df['low'])*.99,max(df['high'])*1.01])\n",
    "fig.show()"
   ],
   "metadata": {
    "collapsed": false
   }
  },
  {
   "cell_type": "code",
   "execution_count": 245,
   "outputs": [],
   "source": [],
   "metadata": {
    "collapsed": false
   }
  }
 ],
 "metadata": {
  "kernelspec": {
   "display_name": "Python 3",
   "language": "python",
   "name": "python3"
  },
  "language_info": {
   "codemirror_mode": {
    "name": "ipython",
    "version": 2
   },
   "file_extension": ".py",
   "mimetype": "text/x-python",
   "name": "python",
   "nbconvert_exporter": "python",
   "pygments_lexer": "ipython2",
   "version": "2.7.6"
  }
 },
 "nbformat": 4,
 "nbformat_minor": 0
}
