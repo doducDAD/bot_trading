{
 "cells": [
  {
   "cell_type": "code",
   "execution_count": 37,
   "metadata": {
    "collapsed": true
   },
   "outputs": [],
   "source": [
    "import numpy as np\n",
    "import pandas as pd\n",
    "\n",
    "import talib\n",
    "from datetime import datetime\n",
    "\n",
    "from binance.client import Client\n",
    "from apscheduler.schedulers.blocking import BlockingScheduler\n",
    "import os, time"
   ]
  },
  {
   "cell_type": "code",
   "execution_count": 38,
   "outputs": [],
   "source": [],
   "metadata": {
    "collapsed": false
   }
  },
  {
   "cell_type": "code",
   "execution_count": null,
   "outputs": [],
   "source": [
    "from aux import *\n",
    "client = Client('JLCON0ZJ9v4zX595o2W1rlvSIhIercTu2ugNLCMPZ88QAt8zvSe2vY3LDiiRjKMB','JMnozKSUlep8mBrXCW1b7mAdHDl5qcYv3GDfNOquyifCdbD4QmGXILR9A5V0FgKf')\n",
    "symbols = ['BTC']\n",
    "start_n_hours_ago = 320\n",
    "balance_unit = 'USDT'\n",
    "first = True\n",
    "balance = 100\n",
    "unittoken = 0\n",
    "BUY_AMOUNT_USDT = 100\n",
    "symbol = 'BTC'\n",
    "\n",
    "while True:\n",
    "    if (datetime.now().second % 10 == 0) or first:\n",
    "        if (datetime.now().minute == 0 and datetime.now().second == 10) or first:\n",
    "            # refresh data\n",
    "            first = False\n",
    "            df = gather_data(symbols,48)\n",
    "            states = get_states(df,symbols)\n",
    "            print('Current state of the market:')\n",
    "            print(states)\n",
    "            print('\\n')\n",
    "\n",
    "        try:\n",
    "            if states == 'uptrend' and qty == 0 :\n",
    "                qty = balance/df[f'{symbol}-USD_Close']\n",
    "            if states == 'dowtrend' and qty > 0:\n",
    "                balance = qty*df[f'{symbol}-USD_Close']\n",
    "                qty = 0\n",
    "\n",
    "            time.sleep(1)\n",
    "\n",
    "        except BinanceAPIException as e:\n",
    "            print(e.status_code)\n",
    "            print(e.message)"
   ],
   "metadata": {
    "collapsed": false,
    "pycharm": {
     "is_executing": true
    }
   }
  },
  {
   "cell_type": "code",
   "execution_count": null,
   "outputs": [
    {
     "name": "stdout",
     "output_type": "stream",
     "text": [
      "Current state of the market:\n",
      "{'BTC': 'inside', 'ETH': 'inside', 'LTC': 'inside'}\n",
      "\n",
      "\n",
      "Current state of the market:\n",
      "{'BTC': 'inside', 'ETH': 'inside', 'LTC': 'inside'}\n",
      "\n",
      "\n"
     ]
    }
   ],
   "source": [
    "from aux import *\n",
    "client = Client('JLCON0ZJ9v4zX595o2W1rlvSIhIercTu2ugNLCMPZ88QAt8zvSe2vY3LDiiRjKMB','JMnozKSUlep8mBrXCW1b7mAdHDl5qcYv3GDfNOquyifCdbD4QmGXILR9A5V0FgKf')\n",
    "symbols = ['BTC','ETH','LTC']\n",
    "start_n_hours_ago = 320\n",
    "balance_unit = 'USDT'\n",
    "first = True\n",
    "\n",
    "BUY_AMOUNT_USDT = 100\n",
    "\n",
    "while True:\n",
    "    if (datetime.now().second % 10 == 0) or first:\n",
    "        if (datetime.now().minute == 0 and datetime.now().second == 10) or first:\n",
    "            # refresh data\n",
    "            first = False\n",
    "            df = gather_data(symbols,48)\n",
    "            states = get_states(df,symbols)\n",
    "            print('Current state of the market:')\n",
    "            print(states)\n",
    "            print('\\n')\n",
    "\n",
    "        try:\n",
    "            for symbol in symbols :\n",
    "            if balance_unit == 'USDT': # looking to buy\n",
    "                for symbol in symbols:\n",
    "                    ask_price = float(client.get_orderbook_ticker(symbol = f'{symbol}USDT')['askPrice'])\n",
    "                    lower_band = df[f'{symbol}_lower_band'].iloc[-1]\n",
    "\n",
    "                    if ask_price < lower_band and states[symbol] == 'uptrend': #buy signal\n",
    "                        ######################\n",
    "                        print(f'Buy order placed:')\n",
    "                        precision = get_precision(price=ask_price,desired_amount_usdt=BUY_AMOUNT_USDT)\n",
    "                        buy_order = client.order_limit_buy(symbol=f'{symbol}USDT',\n",
    "                                                           quantity=truncate(BUY_AMOUNT_USDT / ask_price, precision),\n",
    "                                                           price = ask_price)\n",
    "                        print(buy_order)\n",
    "\n",
    "                        start = datetime.now()\n",
    "                        while True:\n",
    "                            time.sleep(1)\n",
    "                            buy_order = client.get_order(symbol=buy_order['symbol'], orderId=buy_order['orderId'])\n",
    "\n",
    "                            seconds_since_buy = (datetime.now() - start).seconds\n",
    "\n",
    "                            # resolve buy order\n",
    "                            if float(buy_order['executedQty']) == 0 and seconds_since_buy > 60*60:\n",
    "                                # no fill\n",
    "                                client.cancel_order(symbol=buy_order['symbol'], orderId=buy_order['orderId'])\n",
    "                                print('Order not filled after 1 hour, cancelled.')\n",
    "                                print('\\n')\n",
    "                                break\n",
    "\n",
    "                            if float(buy_order['executedQty']) != 0 and float(buy_order['executedQty']) != float(buy_order['origQty']) and seconds_since_buy > 60*60:\n",
    "                                # partial fill\n",
    "                                client.cancel_order(symbol=buy_order['symbol'], orderId=buy_order['orderId'])\n",
    "                                balance_unit = symbol\n",
    "                                print('Order partially filled after 1 hour, cancelled the rest and awaiting sell signal.')\n",
    "                                print('\\n')\n",
    "                                break\n",
    "\n",
    "                            if float(buy_order['executedQty']) ==  float(buy_order['origQty']):\n",
    "                                # completely filled\n",
    "                                balance_unit = symbol\n",
    "                                print('Order filled:')\n",
    "                                print(buy_order)\n",
    "                                print('\\n')\n",
    "                                break\n",
    "\n",
    "                        ######################\n",
    "\n",
    "            if balance_unit != 'USDT': # looking to sell\n",
    "                bid_price = float(client.get_orderbook_ticker(symbol = f'{balance_unit}USDT')['bidPrice'])\n",
    "                upper_band = df[f'{balance_unit}_upper_band'].iloc[-1]\n",
    "                if bid_price > upper_band and states[balance_unit] == 'dowtrend': #sell signal\n",
    "                    ######################\n",
    "                    # use same precision as buy order\n",
    "                    client.order_market_sell(symbol=buy_order['symbol'],\n",
    "                                             quantity=truncate(float(buy_order['executedQty']), precision))\n",
    "\n",
    "                    ######################\n",
    "                    balance_unit = 'USDT'\n",
    "\n",
    "            time.sleep(1)\n",
    "\n",
    "        except BinanceAPIException as e:\n",
    "            print(e.status_code)\n",
    "            print(e.message)"
   ],
   "metadata": {
    "collapsed": false,
    "pycharm": {
     "is_executing": true
    }
   }
  },
  {
   "cell_type": "code",
   "execution_count": null,
   "outputs": [],
   "source": [],
   "metadata": {
    "collapsed": false
   }
  }
 ],
 "metadata": {
  "kernelspec": {
   "display_name": "Python 3",
   "language": "python",
   "name": "python3"
  },
  "language_info": {
   "codemirror_mode": {
    "name": "ipython",
    "version": 2
   },
   "file_extension": ".py",
   "mimetype": "text/x-python",
   "name": "python",
   "nbconvert_exporter": "python",
   "pygments_lexer": "ipython2",
   "version": "2.7.6"
  }
 },
 "nbformat": 4,
 "nbformat_minor": 0
}
