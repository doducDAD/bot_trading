{
 "cells": [
  {
   "cell_type": "code",
   "execution_count": 4,
   "metadata": {
    "collapsed": true
   },
   "outputs": [],
   "source": [
    "import numpy as np\n",
    "import pandas as pd\n",
    "\n",
    "import talib\n",
    "from datetime import datetime\n",
    "\n",
    "from binance.client import Client\n",
    "from apscheduler.schedulers.blocking import BlockingScheduler\n",
    "import os, time"
   ]
  },
  {
   "cell_type": "code",
   "execution_count": 5,
   "outputs": [],
   "source": [
    "## Vì để thực hiện giao dịch trực tiếp với API sàn của em, thì nó sẽ cần tiền mặt thật để đổ vào do đó em đã chuyển qua dạng hàm test đặc trưng."
   ],
   "metadata": {
    "collapsed": false
   }
  },
  {
   "cell_type": "code",
   "execution_count": 10,
   "outputs": [
    {
     "ename": "NameError",
     "evalue": "name 'start_str' is not defined",
     "output_type": "error",
     "traceback": [
      "\u001B[1;31m---------------------------------------------------------------------------\u001B[0m",
      "\u001B[1;31mNameError\u001B[0m                                 Traceback (most recent call last)",
      "Cell \u001B[1;32mIn[10], line 16\u001B[0m\n\u001B[0;32m     13\u001B[0m \u001B[38;5;28;01mif\u001B[39;00m (datetime\u001B[38;5;241m.\u001B[39mnow()\u001B[38;5;241m.\u001B[39msecond \u001B[38;5;241m%\u001B[39m \u001B[38;5;241m10\u001B[39m \u001B[38;5;241m==\u001B[39m \u001B[38;5;241m0\u001B[39m) \u001B[38;5;129;01mor\u001B[39;00m first:\n\u001B[0;32m     14\u001B[0m     \u001B[38;5;28;01mif\u001B[39;00m (datetime\u001B[38;5;241m.\u001B[39mnow()\u001B[38;5;241m.\u001B[39mminute \u001B[38;5;241m==\u001B[39m \u001B[38;5;241m0\u001B[39m \u001B[38;5;129;01mand\u001B[39;00m datetime\u001B[38;5;241m.\u001B[39mnow()\u001B[38;5;241m.\u001B[39msecond \u001B[38;5;241m==\u001B[39m \u001B[38;5;241m10\u001B[39m) \u001B[38;5;129;01mor\u001B[39;00m first:\n\u001B[0;32m     15\u001B[0m         \u001B[38;5;66;03m# refresh data\u001B[39;00m\n\u001B[1;32m---> 16\u001B[0m         df \u001B[38;5;241m=\u001B[39m \u001B[43mgather_data\u001B[49m\u001B[43m(\u001B[49m\u001B[38;5;241;43m320\u001B[39;49m\u001B[43m)\u001B[49m\n\u001B[0;32m     17\u001B[0m         states \u001B[38;5;241m=\u001B[39m get_states(df)\n\u001B[0;32m     18\u001B[0m         \u001B[38;5;28mprint\u001B[39m(\u001B[38;5;124m'\u001B[39m\u001B[38;5;124mCurrent state of the market:\u001B[39m\u001B[38;5;124m'\u001B[39m)\n",
      "File \u001B[1;32mU:\\PROJECTFINAL\\bot_trading\\aux.py:17\u001B[0m, in \u001B[0;36mgather_data\u001B[1;34m(start_n_hours_ago)\u001B[0m\n\u001B[0;32m     15\u001B[0m merge \u001B[38;5;241m=\u001B[39m \u001B[38;5;28;01mFalse\u001B[39;00m\n\u001B[0;32m     16\u001B[0m coin \u001B[38;5;241m=\u001B[39m \u001B[38;5;124m'\u001B[39m\u001B[38;5;124mBTC\u001B[39m\u001B[38;5;124m'\u001B[39m\n\u001B[1;32m---> 17\u001B[0m klines \u001B[38;5;241m=\u001B[39m client\u001B[38;5;241m.\u001B[39mget_historical_klines(symbol\u001B[38;5;241m=\u001B[39m\u001B[38;5;124mf\u001B[39m\u001B[38;5;124m'\u001B[39m\u001B[38;5;132;01m{\u001B[39;00mcoin\u001B[38;5;132;01m}\u001B[39;00m\u001B[38;5;124mUSDT\u001B[39m\u001B[38;5;124m'\u001B[39m, interval\u001B[38;5;241m=\u001B[39mclient\u001B[38;5;241m.\u001B[39mKLINE_INTERVAL_1DAY, start_str\u001B[38;5;241m=\u001B[39m\u001B[43mstart_str\u001B[49m)  \u001B[38;5;66;03m##craw dữ liệu\u001B[39;00m\n\u001B[0;32m     18\u001B[0m df \u001B[38;5;241m=\u001B[39m pd\u001B[38;5;241m.\u001B[39mDataFrame(klines)\n\u001B[0;32m     19\u001B[0m df \u001B[38;5;241m=\u001B[39m df\u001B[38;5;241m.\u001B[39miloc[:,:\u001B[38;5;241m6\u001B[39m] \u001B[38;5;66;03m## Chỉ lấy 6 cột đầu.\u001B[39;00m\n",
      "\u001B[1;31mNameError\u001B[0m: name 'start_str' is not defined"
     ]
    }
   ],
   "source": [
    "from aux import *\n",
    "client = Client('JLCON0ZJ9v4zX595o2W1rlvSIhIercTu2ugNLCMPZ88QAt8zvSe2vY3LDiiRjKMB','JMnozKSUlep8mBrXCW1b7mAdHDl5qcYv3GDfNOquyifCdbD4QmGXILR9A5V0FgKf')\n",
    "symbols = ['BTC']\n",
    "start_n_hours_ago = 320\n",
    "balance_unit = 'USDT'\n",
    "first = True\n",
    "balance = 100\n",
    "unittoken = 0\n",
    "BUY_AMOUNT_USDT = 100\n",
    "symbol = 'BTC'\n",
    "\n",
    "while True:\n",
    "    if (datetime.now().second % 10 == 0) or first:\n",
    "        if (datetime.now().minute == 0 and datetime.now().second == 10) or first:\n",
    "            # refresh data\n",
    "            df = gather_data(320)\n",
    "            states = get_states(df)\n",
    "            print('Current state of the market:')\n",
    "            print(states)\n",
    "            print('\\n')\n",
    "\n",
    "\n",
    "            if states == 'uptrend' and qty == 0 :\n",
    "                qty = balance/df['close']\n",
    "            if states == 'dowtrend' and qty > 0:\n",
    "                balance = qty*df['close']\n",
    "                qty = 0\n",
    "\n",
    "\n",
    "\n"
   ],
   "metadata": {
    "collapsed": false
   }
  },
  {
   "cell_type": "code",
   "execution_count": null,
   "outputs": [],
   "source": [],
   "metadata": {
    "collapsed": false
   }
  }
 ],
 "metadata": {
  "kernelspec": {
   "display_name": "Python 3",
   "language": "python",
   "name": "python3"
  },
  "language_info": {
   "codemirror_mode": {
    "name": "ipython",
    "version": 2
   },
   "file_extension": ".py",
   "mimetype": "text/x-python",
   "name": "python",
   "nbconvert_exporter": "python",
   "pygments_lexer": "ipython2",
   "version": "2.7.6"
  }
 },
 "nbformat": 4,
 "nbformat_minor": 0
}
