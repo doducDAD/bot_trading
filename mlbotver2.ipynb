{
 "cells": [
  {
   "cell_type": "code",
   "execution_count": 79,
   "metadata": {
    "collapsed": true
   },
   "outputs": [],
   "source": [
    "import math\n",
    "import ccxt\n",
    "from crypto_data_fetcher.gmo import GmoFetcher\n",
    "import joblib\n",
    "import lightgbm as lgb\n",
    "import matplotlib.pyplot as plt\n",
    "import numba\n",
    "import numpy as np\n",
    "import pandas as pd\n",
    "from scipy.stats import ttest_1samp\n",
    "import seaborn as sns\n",
    "import talib\n",
    "from datetime import datetime\n",
    "from sklearn.linear_model import RidgeCV\n",
    "from sklearn.model_selection import cross_val_score, KFold, TimeSeriesSplit\n",
    "from binance.client import Client\n",
    "from scipy.stats import linregress\n",
    "import pandas_ta as ta"
   ]
  },
  {
   "cell_type": "code",
   "execution_count": 80,
   "outputs": [
    {
     "data": {
      "text/plain": "                   time      open      high       low     close        volume\n702 2022-12-04 07:00:00  16885.20  17202.84  16878.25  17105.70  178619.13387\n703 2022-12-05 07:00:00  17106.65  17424.25  16867.00  16966.35  233703.29225\n704 2022-12-06 07:00:00  16966.35  17107.01  16906.37  17088.96  218730.76883\n705 2022-12-07 07:00:00  17088.96  17142.21  16678.83  16836.64  220657.41334\n706 2022-12-08 07:00:00  16836.64  16890.01  16777.00  16803.79   56771.82798",
      "text/html": "<div>\n<style scoped>\n    .dataframe tbody tr th:only-of-type {\n        vertical-align: middle;\n    }\n\n    .dataframe tbody tr th {\n        vertical-align: top;\n    }\n\n    .dataframe thead th {\n        text-align: right;\n    }\n</style>\n<table border=\"1\" class=\"dataframe\">\n  <thead>\n    <tr style=\"text-align: right;\">\n      <th></th>\n      <th>time</th>\n      <th>open</th>\n      <th>high</th>\n      <th>low</th>\n      <th>close</th>\n      <th>volume</th>\n    </tr>\n  </thead>\n  <tbody>\n    <tr>\n      <th>702</th>\n      <td>2022-12-04 07:00:00</td>\n      <td>16885.20</td>\n      <td>17202.84</td>\n      <td>16878.25</td>\n      <td>17105.70</td>\n      <td>178619.13387</td>\n    </tr>\n    <tr>\n      <th>703</th>\n      <td>2022-12-05 07:00:00</td>\n      <td>17106.65</td>\n      <td>17424.25</td>\n      <td>16867.00</td>\n      <td>16966.35</td>\n      <td>233703.29225</td>\n    </tr>\n    <tr>\n      <th>704</th>\n      <td>2022-12-06 07:00:00</td>\n      <td>16966.35</td>\n      <td>17107.01</td>\n      <td>16906.37</td>\n      <td>17088.96</td>\n      <td>218730.76883</td>\n    </tr>\n    <tr>\n      <th>705</th>\n      <td>2022-12-07 07:00:00</td>\n      <td>17088.96</td>\n      <td>17142.21</td>\n      <td>16678.83</td>\n      <td>16836.64</td>\n      <td>220657.41334</td>\n    </tr>\n    <tr>\n      <th>706</th>\n      <td>2022-12-08 07:00:00</td>\n      <td>16836.64</td>\n      <td>16890.01</td>\n      <td>16777.00</td>\n      <td>16803.79</td>\n      <td>56771.82798</td>\n    </tr>\n  </tbody>\n</table>\n</div>"
     },
     "execution_count": 80,
     "metadata": {},
     "output_type": "execute_result"
    }
   ],
   "source": [
    "client = Client('JLCON0ZJ9v4zX595o2W1rlvSIhIercTu2ugNLCMPZ88QAt8zvSe2vY3LDiiRjKMB','JMnozKSUlep8mBrXCW1b7mAdHDl5qcYv3GDfNOquyifCdbD4QmGXILR9A5V0FgKf')\n",
    "start_str = 'Jan 1, 2021'\n",
    "end_str = ''\n",
    "coin = 'BTC'\n",
    "klines = client.get_historical_klines(symbol=f'{coin}USDT', interval=client.KLINE_INTERVAL_1DAY, start_str=start_str)  ##craw dữ liệu\n",
    "df = pd.DataFrame(klines)\n",
    "df = df.iloc[:,:6] ## Chỉ lấy 6 cột đầu.\n",
    "df.columns = ['time','open','high','low','close','volume']\n",
    "df = df.astype(float) ## Dữ liệu đang ở dạng string nên cần chuyển qua float.\n",
    "df['time'] = [datetime.fromtimestamp(ts / 1000) for ts in df['time']] ##chuyển định dạng timestamp sang thời gian chuẩn YY/MM/DD 00:00 UTC\n",
    "\n",
    "df.tail()"
   ],
   "metadata": {
    "collapsed": false
   }
  },
  {
   "cell_type": "code",
   "execution_count": 88,
   "outputs": [
    {
     "data": {
      "text/plain": "                   time      open      high       low     close        volume  \\\n702 2022-12-04 07:00:00  16885.20  17202.84  16878.25  17105.70  178619.13387   \n703 2022-12-05 07:00:00  17106.65  17424.25  16867.00  16966.35  233703.29225   \n704 2022-12-06 07:00:00  16966.35  17107.01  16906.37  17088.96  218730.76883   \n705 2022-12-07 07:00:00  17088.96  17142.21  16678.83  16836.64  220657.41334   \n706 2022-12-08 07:00:00  16836.64  16890.01  16777.00  16803.79   56771.82798   \n\n     BBANDS_upperband  BBANDS_middleband  BBANDS_lowerband      DEMA  ...  \\\n702          0.011966           0.000256         -0.011453 -0.039995  ...   \n703          0.001524          -0.008261         -0.018045 -0.045317  ...   \n704          0.011456           0.001235         -0.008987 -0.034780  ...   \n705          0.016644           0.003923         -0.008798 -0.029444  ...   \n706          0.022365           0.007545         -0.007275 -0.024931  ...   \n\n         NATR  HT_DCPERIOD  HT_DCPHASE  HT_SINE_sine  HT_SINE_leadsine  \\\n702  3.431896    23.587303   88.650557      0.999723          0.723563   \n703  3.447538    23.943246  103.359448      0.972940          0.524589   \n704  3.262180    24.958935  110.928957      0.934024          0.407869   \n705  3.271150    26.531142  110.449523      0.936980          0.415495   \n706  3.091472    27.601645  116.760891      0.892893          0.312983   \n\n     HT_TRENDMODE      BETA    CORREL  LINEARREG_ANGLE  mytarget  \n702             1  0.398320  0.850991        89.243468       NaN  \n703             1  0.349483  0.798124        89.025147       NaN  \n704             1  0.043256  0.679494        88.954413       NaN  \n705             1 -0.103353  0.299469        88.902895       NaN  \n706             0 -0.274108  0.023017        88.795028       NaN  \n\n[5 rows x 69 columns]",
      "text/html": "<div>\n<style scoped>\n    .dataframe tbody tr th:only-of-type {\n        vertical-align: middle;\n    }\n\n    .dataframe tbody tr th {\n        vertical-align: top;\n    }\n\n    .dataframe thead th {\n        text-align: right;\n    }\n</style>\n<table border=\"1\" class=\"dataframe\">\n  <thead>\n    <tr style=\"text-align: right;\">\n      <th></th>\n      <th>time</th>\n      <th>open</th>\n      <th>high</th>\n      <th>low</th>\n      <th>close</th>\n      <th>volume</th>\n      <th>BBANDS_upperband</th>\n      <th>BBANDS_middleband</th>\n      <th>BBANDS_lowerband</th>\n      <th>DEMA</th>\n      <th>...</th>\n      <th>NATR</th>\n      <th>HT_DCPERIOD</th>\n      <th>HT_DCPHASE</th>\n      <th>HT_SINE_sine</th>\n      <th>HT_SINE_leadsine</th>\n      <th>HT_TRENDMODE</th>\n      <th>BETA</th>\n      <th>CORREL</th>\n      <th>LINEARREG_ANGLE</th>\n      <th>mytarget</th>\n    </tr>\n  </thead>\n  <tbody>\n    <tr>\n      <th>702</th>\n      <td>2022-12-04 07:00:00</td>\n      <td>16885.20</td>\n      <td>17202.84</td>\n      <td>16878.25</td>\n      <td>17105.70</td>\n      <td>178619.13387</td>\n      <td>0.011966</td>\n      <td>0.000256</td>\n      <td>-0.011453</td>\n      <td>-0.039995</td>\n      <td>...</td>\n      <td>3.431896</td>\n      <td>23.587303</td>\n      <td>88.650557</td>\n      <td>0.999723</td>\n      <td>0.723563</td>\n      <td>1</td>\n      <td>0.398320</td>\n      <td>0.850991</td>\n      <td>89.243468</td>\n      <td>NaN</td>\n    </tr>\n    <tr>\n      <th>703</th>\n      <td>2022-12-05 07:00:00</td>\n      <td>17106.65</td>\n      <td>17424.25</td>\n      <td>16867.00</td>\n      <td>16966.35</td>\n      <td>233703.29225</td>\n      <td>0.001524</td>\n      <td>-0.008261</td>\n      <td>-0.018045</td>\n      <td>-0.045317</td>\n      <td>...</td>\n      <td>3.447538</td>\n      <td>23.943246</td>\n      <td>103.359448</td>\n      <td>0.972940</td>\n      <td>0.524589</td>\n      <td>1</td>\n      <td>0.349483</td>\n      <td>0.798124</td>\n      <td>89.025147</td>\n      <td>NaN</td>\n    </tr>\n    <tr>\n      <th>704</th>\n      <td>2022-12-06 07:00:00</td>\n      <td>16966.35</td>\n      <td>17107.01</td>\n      <td>16906.37</td>\n      <td>17088.96</td>\n      <td>218730.76883</td>\n      <td>0.011456</td>\n      <td>0.001235</td>\n      <td>-0.008987</td>\n      <td>-0.034780</td>\n      <td>...</td>\n      <td>3.262180</td>\n      <td>24.958935</td>\n      <td>110.928957</td>\n      <td>0.934024</td>\n      <td>0.407869</td>\n      <td>1</td>\n      <td>0.043256</td>\n      <td>0.679494</td>\n      <td>88.954413</td>\n      <td>NaN</td>\n    </tr>\n    <tr>\n      <th>705</th>\n      <td>2022-12-07 07:00:00</td>\n      <td>17088.96</td>\n      <td>17142.21</td>\n      <td>16678.83</td>\n      <td>16836.64</td>\n      <td>220657.41334</td>\n      <td>0.016644</td>\n      <td>0.003923</td>\n      <td>-0.008798</td>\n      <td>-0.029444</td>\n      <td>...</td>\n      <td>3.271150</td>\n      <td>26.531142</td>\n      <td>110.449523</td>\n      <td>0.936980</td>\n      <td>0.415495</td>\n      <td>1</td>\n      <td>-0.103353</td>\n      <td>0.299469</td>\n      <td>88.902895</td>\n      <td>NaN</td>\n    </tr>\n    <tr>\n      <th>706</th>\n      <td>2022-12-08 07:00:00</td>\n      <td>16836.64</td>\n      <td>16890.01</td>\n      <td>16777.00</td>\n      <td>16803.79</td>\n      <td>56771.82798</td>\n      <td>0.022365</td>\n      <td>0.007545</td>\n      <td>-0.007275</td>\n      <td>-0.024931</td>\n      <td>...</td>\n      <td>3.091472</td>\n      <td>27.601645</td>\n      <td>116.760891</td>\n      <td>0.892893</td>\n      <td>0.312983</td>\n      <td>0</td>\n      <td>-0.274108</td>\n      <td>0.023017</td>\n      <td>88.795028</td>\n      <td>NaN</td>\n    </tr>\n  </tbody>\n</table>\n<p>5 rows × 69 columns</p>\n</div>"
     },
     "execution_count": 88,
     "metadata": {},
     "output_type": "execute_result"
    }
   ],
   "source": [
    "open = df['open']\n",
    "high = df['high']\n",
    "low  = df['low']\n",
    "close = df['close']\n",
    "volume = df['volume']\n",
    "df.dropna()\n",
    "avg = (df['high'] + df['low']) / 2\n",
    "##Overlap Studies\n",
    "df['BBANDS_upperband'], df['BBANDS_middleband'], df['BBANDS_lowerband'] = talib.BBANDS(close, timeperiod=5, nbdevup=2, nbdevdn=2, matype=0)\n",
    "df['BBANDS_upperband'] = (df['BBANDS_upperband'] - avg) / close\n",
    "df['BBANDS_middleband'] = (df['BBANDS_middleband'] - avg) / close\n",
    "df['BBANDS_lowerband'] = (df['BBANDS_lowerband'] - avg) / close\n",
    "df['DEMA'] = (talib.DEMA(close, timeperiod=30) - avg) / close\n",
    "df['EMA'] = (talib.EMA(close, timeperiod=30) - avg) / close\n",
    "df['HT_TRENDLINE'] = (talib.HT_TRENDLINE(close) - avg) / close\n",
    "df['KAMA'] = (talib.KAMA(close, timeperiod=30) - avg) / close\n",
    "df['MA'] = (talib.MA(close, timeperiod=30, matype=0) - avg) / close\n",
    "df['MIDPOINT'] = (talib.MIDPOINT(close, timeperiod=14) - avg) / close\n",
    "df['SMA'] = (talib.SMA(close, timeperiod=30) - avg) / close\n",
    "df['T3'] = (talib.T3(close, timeperiod=5, vfactor=0) - avg) / close\n",
    "df['TEMA'] = (talib.TEMA(close, timeperiod=30) - avg) / close\n",
    "df['TRIMA'] = (talib.TRIMA(close, timeperiod=30) - avg) / close\n",
    "df['WMA'] = (talib.WMA(close, timeperiod=30) - avg) / close\n",
    "df['LINEARREG'] = (talib.LINEARREG(close, timeperiod=14) - close) / close\n",
    "df['LINEARREG_INTERCEPT'] = (talib.LINEARREG_INTERCEPT(close, timeperiod=14) - close) / close\n",
    "\n",
    "df['AD'] = talib.AD(high, low, close, volume) / close\n",
    "df['ADOSC'] = talib.ADOSC(high, low, close, volume, fastperiod=3, slowperiod=10) / close\n",
    "df['APO'] = talib.APO(close, fastperiod=12, slowperiod=26, matype=0) / close\n",
    "df['HT_PHASOR_inphase'], df['HT_PHASOR_quadrature'] = talib.HT_PHASOR(close)\n",
    "df['HT_PHASOR_inphase'] /= close\n",
    "df['HT_PHASOR_quadrature'] /= close\n",
    "df['LINEARREG_SLOPE'] = talib.LINEARREG_SLOPE(close, timeperiod=14) / close\n",
    "df['MACD_macd'], df['MACD_macdsignal'], df['MACD_macdhist'] = talib.MACD(close, fastperiod=12, slowperiod=26, signalperiod=9)\n",
    "df['MACD_macd'] /= close\n",
    "df['MACD_macdsignal'] /= close\n",
    "df['MACD_macdhist'] /= close\n",
    "df['MINUS_DM'] = talib.MINUS_DM(high, low, timeperiod=14) / close\n",
    "df['MOM'] = talib.MOM(close, timeperiod=10) / close\n",
    "df['OBV'] = talib.OBV(close, volume) / close\n",
    "df['PLUS_DM'] = talib.PLUS_DM(high, low, timeperiod=14) / close\n",
    "df['STDDEV'] = talib.STDDEV(close, timeperiod=5, nbdev=1) / close\n",
    "df['TRANGE'] = talib.TRANGE(high, low, close) / close\n",
    "\n",
    "##Momentum Indicators\n",
    "df['ADX'] = talib.ADX(high, low, close, timeperiod=14)\n",
    "df['ADXR'] = talib.ADXR(high, low, close, timeperiod=14)\n",
    "df['AROON_aroondown'], df['AROON_aroonup'] = talib.AROON(high, low, timeperiod=14)\n",
    "df['AROONOSC'] = talib.AROONOSC(high, low, timeperiod=14)\n",
    "df['BOP'] = talib.BOP(open, high, low, close)\n",
    "df['CCI'] = talib.CCI(high, low, close, timeperiod=14)\n",
    "df['DX'] = talib.DX(high, low, close, timeperiod=14)\n",
    "\n",
    "df['MFI'] = talib.MFI(high, low, close, volume, timeperiod=14)\n",
    "df['MINUS_DI'] = talib.MINUS_DI(high, low, close, timeperiod=14)\n",
    "df['PLUS_DI'] = talib.PLUS_DI(high, low, close, timeperiod=14)\n",
    "df['RSI'] = talib.RSI(close, timeperiod=14)\n",
    "df['STOCH_slowk'], df['STOCH_slowd'] = talib.STOCH(high, low, close, fastk_period=5, slowk_period=3, slowk_matype=0, slowd_period=3, slowd_matype=0)\n",
    "df['STOCHF_fastk'], df['STOCHF_fastd'] = talib.STOCHF(high, low, close, fastk_period=5, fastd_period=3, fastd_matype=0)\n",
    "df['STOCHRSI_fastk'], df['STOCHRSI_fastd'] = talib.STOCHRSI(close, timeperiod=14, fastk_period=5, fastd_period=3, fastd_matype=0)\n",
    "df['TRIX'] = talib.TRIX(close, timeperiod=30)\n",
    "df['ULTOSC'] = talib.ULTOSC(high, low, close, timeperiod1=7, timeperiod2=14, timeperiod3=28)\n",
    "df['WILLR'] = talib.WILLR(high, low, close, timeperiod=14)\n",
    "\n",
    "df['ATR'] = talib.ATR(high, low, close, timeperiod=14)  # Chỉ báo về biên động thị trường\n",
    "df['NATR'] = talib.NATR(high, low, close, timeperiod=14)\n",
    "\n",
    "df['HT_DCPERIOD'] = talib.HT_DCPERIOD(close)\n",
    "df['HT_DCPHASE'] = talib.HT_DCPHASE(close)\n",
    "df['HT_SINE_sine'], df['HT_SINE_leadsine'] = talib.HT_SINE(close)\n",
    "df['HT_TRENDMODE'] = talib.HT_TRENDMODE(close)\n",
    "\n",
    "df['BETA'] = talib.BETA(high, low, timeperiod=5)\n",
    "df['CORREL'] = talib.CORREL(high, low, timeperiod=30)\n",
    "\n",
    "df['LINEARREG_ANGLE'] = talib.LINEARREG_ANGLE(close, timeperiod=14)\n",
    "\n",
    "## Pattern Recognition"
   ],
   "metadata": {
    "collapsed": false
   }
  },
  {
   "cell_type": "code",
   "execution_count": 89,
   "outputs": [
    {
     "data": {
      "text/plain": "                   time      open      high       low     close        volume  \\\n702 2022-12-04 07:00:00  16885.20  17202.84  16878.25  17105.70  178619.13387   \n703 2022-12-05 07:00:00  17106.65  17424.25  16867.00  16966.35  233703.29225   \n704 2022-12-06 07:00:00  16966.35  17107.01  16906.37  17088.96  218730.76883   \n705 2022-12-07 07:00:00  17088.96  17142.21  16678.83  16836.64  220657.41334   \n706 2022-12-08 07:00:00  16836.64  16890.01  16777.00  16803.79   56771.82798   \n\n     BBANDS_upperband  BBANDS_middleband  BBANDS_lowerband      DEMA  ...  \\\n702          0.011966           0.000256         -0.011453 -0.039995  ...   \n703          0.001524          -0.008261         -0.018045 -0.045317  ...   \n704          0.011456           0.001235         -0.008987 -0.034780  ...   \n705          0.016644           0.003923         -0.008798 -0.029444  ...   \n706          0.022365           0.007545         -0.007275 -0.024931  ...   \n\n         NATR  HT_DCPERIOD  HT_DCPHASE  HT_SINE_sine  HT_SINE_leadsine  \\\n702  3.431896    23.587303   88.650557      0.999723          0.723563   \n703  3.447538    23.943246  103.359448      0.972940          0.524589   \n704  3.262180    24.958935  110.928957      0.934024          0.407869   \n705  3.271150    26.531142  110.449523      0.936980          0.415495   \n706  3.091472    27.601645  116.760891      0.892893          0.312983   \n\n     HT_TRENDMODE      BETA    CORREL  LINEARREG_ANGLE  mytarget  \n702             1  0.398320  0.850991        89.243468       NaN  \n703             1  0.349483  0.798124        89.025147       NaN  \n704             1  0.043256  0.679494        88.954413       NaN  \n705             1 -0.103353  0.299469        88.902895       NaN  \n706             0 -0.274108  0.023017        88.795028       NaN  \n\n[5 rows x 69 columns]",
      "text/html": "<div>\n<style scoped>\n    .dataframe tbody tr th:only-of-type {\n        vertical-align: middle;\n    }\n\n    .dataframe tbody tr th {\n        vertical-align: top;\n    }\n\n    .dataframe thead th {\n        text-align: right;\n    }\n</style>\n<table border=\"1\" class=\"dataframe\">\n  <thead>\n    <tr style=\"text-align: right;\">\n      <th></th>\n      <th>time</th>\n      <th>open</th>\n      <th>high</th>\n      <th>low</th>\n      <th>close</th>\n      <th>volume</th>\n      <th>BBANDS_upperband</th>\n      <th>BBANDS_middleband</th>\n      <th>BBANDS_lowerband</th>\n      <th>DEMA</th>\n      <th>...</th>\n      <th>NATR</th>\n      <th>HT_DCPERIOD</th>\n      <th>HT_DCPHASE</th>\n      <th>HT_SINE_sine</th>\n      <th>HT_SINE_leadsine</th>\n      <th>HT_TRENDMODE</th>\n      <th>BETA</th>\n      <th>CORREL</th>\n      <th>LINEARREG_ANGLE</th>\n      <th>mytarget</th>\n    </tr>\n  </thead>\n  <tbody>\n    <tr>\n      <th>702</th>\n      <td>2022-12-04 07:00:00</td>\n      <td>16885.20</td>\n      <td>17202.84</td>\n      <td>16878.25</td>\n      <td>17105.70</td>\n      <td>178619.13387</td>\n      <td>0.011966</td>\n      <td>0.000256</td>\n      <td>-0.011453</td>\n      <td>-0.039995</td>\n      <td>...</td>\n      <td>3.431896</td>\n      <td>23.587303</td>\n      <td>88.650557</td>\n      <td>0.999723</td>\n      <td>0.723563</td>\n      <td>1</td>\n      <td>0.398320</td>\n      <td>0.850991</td>\n      <td>89.243468</td>\n      <td>NaN</td>\n    </tr>\n    <tr>\n      <th>703</th>\n      <td>2022-12-05 07:00:00</td>\n      <td>17106.65</td>\n      <td>17424.25</td>\n      <td>16867.00</td>\n      <td>16966.35</td>\n      <td>233703.29225</td>\n      <td>0.001524</td>\n      <td>-0.008261</td>\n      <td>-0.018045</td>\n      <td>-0.045317</td>\n      <td>...</td>\n      <td>3.447538</td>\n      <td>23.943246</td>\n      <td>103.359448</td>\n      <td>0.972940</td>\n      <td>0.524589</td>\n      <td>1</td>\n      <td>0.349483</td>\n      <td>0.798124</td>\n      <td>89.025147</td>\n      <td>NaN</td>\n    </tr>\n    <tr>\n      <th>704</th>\n      <td>2022-12-06 07:00:00</td>\n      <td>16966.35</td>\n      <td>17107.01</td>\n      <td>16906.37</td>\n      <td>17088.96</td>\n      <td>218730.76883</td>\n      <td>0.011456</td>\n      <td>0.001235</td>\n      <td>-0.008987</td>\n      <td>-0.034780</td>\n      <td>...</td>\n      <td>3.262180</td>\n      <td>24.958935</td>\n      <td>110.928957</td>\n      <td>0.934024</td>\n      <td>0.407869</td>\n      <td>1</td>\n      <td>0.043256</td>\n      <td>0.679494</td>\n      <td>88.954413</td>\n      <td>NaN</td>\n    </tr>\n    <tr>\n      <th>705</th>\n      <td>2022-12-07 07:00:00</td>\n      <td>17088.96</td>\n      <td>17142.21</td>\n      <td>16678.83</td>\n      <td>16836.64</td>\n      <td>220657.41334</td>\n      <td>0.016644</td>\n      <td>0.003923</td>\n      <td>-0.008798</td>\n      <td>-0.029444</td>\n      <td>...</td>\n      <td>3.271150</td>\n      <td>26.531142</td>\n      <td>110.449523</td>\n      <td>0.936980</td>\n      <td>0.415495</td>\n      <td>1</td>\n      <td>-0.103353</td>\n      <td>0.299469</td>\n      <td>88.902895</td>\n      <td>NaN</td>\n    </tr>\n    <tr>\n      <th>706</th>\n      <td>2022-12-08 07:00:00</td>\n      <td>16836.64</td>\n      <td>16890.01</td>\n      <td>16777.00</td>\n      <td>16803.79</td>\n      <td>56771.82798</td>\n      <td>0.022365</td>\n      <td>0.007545</td>\n      <td>-0.007275</td>\n      <td>-0.024931</td>\n      <td>...</td>\n      <td>3.091472</td>\n      <td>27.601645</td>\n      <td>116.760891</td>\n      <td>0.892893</td>\n      <td>0.312983</td>\n      <td>0</td>\n      <td>-0.274108</td>\n      <td>0.023017</td>\n      <td>88.795028</td>\n      <td>NaN</td>\n    </tr>\n  </tbody>\n</table>\n<p>5 rows × 69 columns</p>\n</div>"
     },
     "execution_count": 89,
     "metadata": {},
     "output_type": "execute_result"
    }
   ],
   "source": [
    "#Phân nhóm dữ liệu\n",
    "pipdiff = 500  # for TP\n",
    "SLTPRatio = 2   # pipdiff/Ratio gives SL\n",
    "\n",
    "\n",
    "def mytarget(barsupfront, df1):\n",
    "    length = len(df1)\n",
    "    high = list(df1['high'])\n",
    "    low = list(df1['low'])\n",
    "    close = list(df1['close'])\n",
    "    open = list(df1['open'])\n",
    "    trendcat = [None] * length\n",
    "\n",
    "    for line in range(0, length - barsupfront - 2):\n",
    "        valueOpenLow = 0\n",
    "        valueOpenHigh = 0\n",
    "        for i in range(1, barsupfront + 2):\n",
    "            value1 = open[line + 1] - low[line + i]\n",
    "            value2 = open[line + 1] - high[line + i]\n",
    "            valueOpenLow = max(value1, valueOpenLow)\n",
    "            valueOpenHigh = min(value2, valueOpenHigh)\n",
    "\n",
    "            if ((valueOpenLow >= pipdiff) and (-valueOpenHigh <= (pipdiff / SLTPRatio))):\n",
    "                trendcat[line] = 1  # -1 downtrend\n",
    "                break\n",
    "            elif ((valueOpenLow <= (pipdiff / SLTPRatio)) and (-valueOpenHigh >= pipdiff)):\n",
    "                trendcat[line] = 2  # uptrend\n",
    "                break\n",
    "            else:\n",
    "                trendcat[line] = 0  # no clear trend\n",
    "\n",
    "    return trendcat\n",
    "df['mytarget'] = mytarget(16, df)\n",
    "df.to_csv('target.csv',index =False)\n",
    "df.tail()\n"
   ],
   "metadata": {
    "collapsed": false
   }
  },
  {
   "cell_type": "code",
   "execution_count": 84,
   "outputs": [],
   "source": [
    "features = sorted([\n",
    "    'ADX',\n",
    "    'ADXR',\n",
    "    'APO',\n",
    "    'AROON_aroondown',\n",
    "    'AROON_aroonup',\n",
    "    'AROONOSC',\n",
    "    'CCI',\n",
    "    'DX',\n",
    "    'MACD_macd',\n",
    "    'MACD_macdsignal',\n",
    "    'MACD_macdhist',\n",
    "    'MFI',\n",
    "    'MOM',\n",
    "    'RSI',\n",
    "    'STOCH_slowk',\n",
    "    'STOCH_slowd',\n",
    "    'STOCHF_fastk',\n",
    "\n",
    "    'ULTOSC',\n",
    "    'WILLR',\n",
    "\n",
    "    'HT_DCPERIOD',\n",
    "    'HT_DCPHASE',\n",
    "    'HT_PHASOR_inphase',\n",
    "    'HT_PHASOR_quadrature',\n",
    "    'HT_TRENDMODE',\n",
    "    'BETA',\n",
    "    'LINEARREG',\n",
    "    'LINEARREG_ANGLE',\n",
    "    'LINEARREG_INTERCEPT',\n",
    "    'LINEARREG_SLOPE',\n",
    "    'STDDEV',\n",
    "    'BBANDS_upperband',\n",
    "    'BBANDS_middleband',\n",
    "    'BBANDS_lowerband',\n",
    "    'DEMA',\n",
    "    'EMA',\n",
    "    'HT_TRENDLINE',\n",
    "    'KAMA',\n",
    "    'MA',\n",
    "    'MIDPOINT',\n",
    "    'T3',\n",
    "    'TEMA',\n",
    "    'TRIMA',\n",
    "    'WMA',\n",
    "])"
   ],
   "metadata": {
    "collapsed": false
   }
  }
 ],
 "metadata": {
  "kernelspec": {
   "display_name": "Python 3",
   "language": "python",
   "name": "python3"
  },
  "language_info": {
   "codemirror_mode": {
    "name": "ipython",
    "version": 2
   },
   "file_extension": ".py",
   "mimetype": "text/x-python",
   "name": "python",
   "nbconvert_exporter": "python",
   "pygments_lexer": "ipython2",
   "version": "2.7.6"
  }
 },
 "nbformat": 4,
 "nbformat_minor": 0
}
